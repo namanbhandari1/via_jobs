{
 "cells": [
  {
   "cell_type": "markdown",
   "metadata": {
    "focus": false,
    "id": "69b9a648-bcc7-490d-9f9b-ea244d156bd6"
   },
   "source": [
    "# Using Reddit's API for Predicting Comments"
   ]
  },
  {
   "cell_type": "markdown",
   "metadata": {},
   "source": [
    "## 1. Open scraped Reddit data"
   ]
  },
  {
   "cell_type": "markdown",
   "metadata": {},
   "source": [
    "Let's import some libraries we will be using in our analysis."
   ]
  },
  {
   "cell_type": "code",
   "execution_count": 1,
   "metadata": {},
   "outputs": [],
   "source": [
    "import json\n",
    "import pandas as pd\n",
    "import numpy as np\n",
    "import regex as re\n",
    "\n",
    "from sklearn.feature_extraction.text import CountVectorizer, TfidfVectorizer, ENGLISH_STOP_WORDS\n",
    "\n",
    "from sklearn.model_selection import train_test_split, GridSearchCV\n",
    "from sklearn.pipeline import Pipeline\n",
    "\n",
    "from sklearn.naive_bayes import MultinomialNB\n",
    "from sklearn.linear_model import LogisticRegression\n",
    "from sklearn.ensemble import RandomForestClassifier\n",
    "\n",
    "from sklearn.metrics import confusion_matrix\n",
    "from scipy.stats import ttest_ind\n",
    "\n",
    "from string import punctuation\n",
    "\n",
    "import seaborn as sns\n",
    "import matplotlib.pyplot as plt\n",
    "%matplotlib inline"
   ]
  },
  {
   "cell_type": "markdown",
   "metadata": {},
   "source": [
    "Let's also open up our two saved JSON files from our two subredddits, r/depression and r/rant."
   ]
  },
  {
   "cell_type": "code",
   "execution_count": 2,
   "metadata": {},
   "outputs": [],
   "source": [
    "with open('../data/depression.json', 'r') as f:\n",
    "    depression_json = json.load(f)"
   ]
  },
  {
   "cell_type": "code",
   "execution_count": 3,
   "metadata": {},
   "outputs": [],
   "source": [
    "with open('../data/rant.json', 'r') as f:\n",
    "    rant_json = json.load(f)"
   ]
  },
  {
   "cell_type": "markdown",
   "metadata": {},
   "source": [
    "Let's create two empty DataFrames and fill those DataFrames with information from our JSON file to analyze the subreddit content. We want the selftext, title, and subreddit features."
   ]
  },
  {
   "cell_type": "code",
   "execution_count": 4,
   "metadata": {},
   "outputs": [],
   "source": [
    "depression = pd.DataFrame()\n",
    "rant = pd.DataFrame()"
   ]
  },
  {
   "cell_type": "code",
   "execution_count": 5,
   "metadata": {},
   "outputs": [],
   "source": [
    "for entry in range(len(depression_json)):\n",
    "\n",
    "    depression.loc[entry,'selftext'] = depression_json[entry]['selftext']\n",
    "    depression.loc[entry,'title'] = depression_json[entry]['title']\n",
    "    depression.loc[entry,'subreddit'] = depression_json[entry]['subreddit']"
   ]
  },
  {
   "cell_type": "code",
   "execution_count": 6,
   "metadata": {},
   "outputs": [],
   "source": [
    "for entry in range(len(rant_json)):\n",
    "\n",
    "    rant.loc[entry,'selftext'] = rant_json[entry]['selftext']\n",
    "    rant.loc[entry,'title'] = rant_json[entry]['title']\n",
    "    rant.loc[entry,'subreddit'] = rant_json[entry]['subreddit']"
   ]
  },
  {
   "cell_type": "markdown",
   "metadata": {},
   "source": [
    "Checking the head of both DataFrames to see what they look like visually:"
   ]
  },
  {
   "cell_type": "code",
   "execution_count": 7,
   "metadata": {},
   "outputs": [
    {
     "data": {
      "text/html": [
       "<div>\n",
       "<style scoped>\n",
       "    .dataframe tbody tr th:only-of-type {\n",
       "        vertical-align: middle;\n",
       "    }\n",
       "\n",
       "    .dataframe tbody tr th {\n",
       "        vertical-align: top;\n",
       "    }\n",
       "\n",
       "    .dataframe thead th {\n",
       "        text-align: right;\n",
       "    }\n",
       "</style>\n",
       "<table border=\"1\" class=\"dataframe\">\n",
       "  <thead>\n",
       "    <tr style=\"text-align: right;\">\n",
       "      <th></th>\n",
       "      <th>selftext</th>\n",
       "      <th>title</th>\n",
       "      <th>subreddit</th>\n",
       "    </tr>\n",
       "  </thead>\n",
       "  <tbody>\n",
       "    <tr>\n",
       "      <th>0</th>\n",
       "      <td>Welcome to /r/depression's check-in post - a p...</td>\n",
       "      <td>Regular Check-In Post</td>\n",
       "      <td>depression</td>\n",
       "    </tr>\n",
       "    <tr>\n",
       "      <th>1</th>\n",
       "      <td>I've been feeling pretty good the last few wee...</td>\n",
       "      <td>Depression cycles suck.</td>\n",
       "      <td>depression</td>\n",
       "    </tr>\n",
       "    <tr>\n",
       "      <th>2</th>\n",
       "      <td>I've lost nearly 4 kg in six days through fast...</td>\n",
       "      <td>I did it.</td>\n",
       "      <td>depression</td>\n",
       "    </tr>\n",
       "    <tr>\n",
       "      <th>3</th>\n",
       "      <td>When you are just a ghost for other people?\\nN...</td>\n",
       "      <td>You know the feeling when you are literally no...</td>\n",
       "      <td>depression</td>\n",
       "    </tr>\n",
       "    <tr>\n",
       "      <th>4</th>\n",
       "      <td>Long read bare with me.\\n\\nSo at a time where ...</td>\n",
       "      <td>What the West has all wrong. Why is there no l...</td>\n",
       "      <td>depression</td>\n",
       "    </tr>\n",
       "  </tbody>\n",
       "</table>\n",
       "</div>"
      ],
      "text/plain": [
       "                                            selftext  \\\n",
       "0  Welcome to /r/depression's check-in post - a p...   \n",
       "1  I've been feeling pretty good the last few wee...   \n",
       "2  I've lost nearly 4 kg in six days through fast...   \n",
       "3  When you are just a ghost for other people?\\nN...   \n",
       "4  Long read bare with me.\\n\\nSo at a time where ...   \n",
       "\n",
       "                                               title   subreddit  \n",
       "0                              Regular Check-In Post  depression  \n",
       "1                            Depression cycles suck.  depression  \n",
       "2                                          I did it.  depression  \n",
       "3  You know the feeling when you are literally no...  depression  \n",
       "4  What the West has all wrong. Why is there no l...  depression  "
      ]
     },
     "execution_count": 7,
     "metadata": {},
     "output_type": "execute_result"
    }
   ],
   "source": [
    "depression.head()"
   ]
  },
  {
   "cell_type": "code",
   "execution_count": 8,
   "metadata": {},
   "outputs": [
    {
     "data": {
      "text/html": [
       "<div>\n",
       "<style scoped>\n",
       "    .dataframe tbody tr th:only-of-type {\n",
       "        vertical-align: middle;\n",
       "    }\n",
       "\n",
       "    .dataframe tbody tr th {\n",
       "        vertical-align: top;\n",
       "    }\n",
       "\n",
       "    .dataframe thead th {\n",
       "        text-align: right;\n",
       "    }\n",
       "</style>\n",
       "<table border=\"1\" class=\"dataframe\">\n",
       "  <thead>\n",
       "    <tr style=\"text-align: right;\">\n",
       "      <th></th>\n",
       "      <th>selftext</th>\n",
       "      <th>title</th>\n",
       "      <th>subreddit</th>\n",
       "    </tr>\n",
       "  </thead>\n",
       "  <tbody>\n",
       "    <tr>\n",
       "      <th>0</th>\n",
       "      <td>Seriously. Dont impose your decision to listen...</td>\n",
       "      <td>PSA: If you listen to music, watch videos or p...</td>\n",
       "      <td>rant</td>\n",
       "    </tr>\n",
       "    <tr>\n",
       "      <th>1</th>\n",
       "      <td>Ask a simple fucking question and the firat co...</td>\n",
       "      <td>Redditors are fucking snarky cunts</td>\n",
       "      <td>rant</td>\n",
       "    </tr>\n",
       "    <tr>\n",
       "      <th>2</th>\n",
       "      <td>I WASNT DONE YET I WAS JUST CHECKING MY SNAPCH...</td>\n",
       "      <td>I hate when I'm on Reddit and switch apps and ...</td>\n",
       "      <td>rant</td>\n",
       "    </tr>\n",
       "    <tr>\n",
       "      <th>3</th>\n",
       "      <td>I see news articles about every fucking thing ...</td>\n",
       "      <td>Why are they trying to make pete Davidson a th...</td>\n",
       "      <td>rant</td>\n",
       "    </tr>\n",
       "    <tr>\n",
       "      <th>4</th>\n",
       "      <td>I really hate it. It’s probably the most annoy...</td>\n",
       "      <td>I really hate the word y’all</td>\n",
       "      <td>rant</td>\n",
       "    </tr>\n",
       "  </tbody>\n",
       "</table>\n",
       "</div>"
      ],
      "text/plain": [
       "                                            selftext  \\\n",
       "0  Seriously. Dont impose your decision to listen...   \n",
       "1  Ask a simple fucking question and the firat co...   \n",
       "2  I WASNT DONE YET I WAS JUST CHECKING MY SNAPCH...   \n",
       "3  I see news articles about every fucking thing ...   \n",
       "4  I really hate it. It’s probably the most annoy...   \n",
       "\n",
       "                                               title subreddit  \n",
       "0  PSA: If you listen to music, watch videos or p...      rant  \n",
       "1                 Redditors are fucking snarky cunts      rant  \n",
       "2  I hate when I'm on Reddit and switch apps and ...      rant  \n",
       "3  Why are they trying to make pete Davidson a th...      rant  \n",
       "4                       I really hate the word y’all      rant  "
      ]
     },
     "execution_count": 8,
     "metadata": {},
     "output_type": "execute_result"
    }
   ],
   "source": [
    "rant.head()"
   ]
  },
  {
   "cell_type": "markdown",
   "metadata": {},
   "source": [
    "Let's replace line break characters with spaces in the DFs."
   ]
  },
  {
   "cell_type": "code",
   "execution_count": 9,
   "metadata": {},
   "outputs": [],
   "source": [
    "depression.replace(r'\\n', ' ', regex = True, inplace = True)\n",
    "rant.replace(r'\\n', ' ', regex = True, inplace = True)"
   ]
  },
  {
   "cell_type": "markdown",
   "metadata": {},
   "source": [
    "Let's combine the two DFs into one."
   ]
  },
  {
   "cell_type": "code",
   "execution_count": 10,
   "metadata": {},
   "outputs": [],
   "source": [
    "df = depression.append(rant)"
   ]
  },
  {
   "cell_type": "markdown",
   "metadata": {},
   "source": [
    "And drop the index column and replace the index."
   ]
  },
  {
   "cell_type": "code",
   "execution_count": 11,
   "metadata": {},
   "outputs": [],
   "source": [
    "df.reset_index(inplace=True)"
   ]
  },
  {
   "cell_type": "code",
   "execution_count": 12,
   "metadata": {},
   "outputs": [],
   "source": [
    "df.drop('index', 1, inplace=True)"
   ]
  },
  {
   "cell_type": "markdown",
   "metadata": {},
   "source": [
    "Let's change our subreddit target column to a Series of 1s and 0s and then explore the head and tail."
   ]
  },
  {
   "cell_type": "code",
   "execution_count": 13,
   "metadata": {},
   "outputs": [
    {
     "data": {
      "text/html": [
       "<div>\n",
       "<style scoped>\n",
       "    .dataframe tbody tr th:only-of-type {\n",
       "        vertical-align: middle;\n",
       "    }\n",
       "\n",
       "    .dataframe tbody tr th {\n",
       "        vertical-align: top;\n",
       "    }\n",
       "\n",
       "    .dataframe thead th {\n",
       "        text-align: right;\n",
       "    }\n",
       "</style>\n",
       "<table border=\"1\" class=\"dataframe\">\n",
       "  <thead>\n",
       "    <tr style=\"text-align: right;\">\n",
       "      <th></th>\n",
       "      <th>selftext</th>\n",
       "      <th>title</th>\n",
       "      <th>subreddit</th>\n",
       "    </tr>\n",
       "  </thead>\n",
       "  <tbody>\n",
       "    <tr>\n",
       "      <th>0</th>\n",
       "      <td>Welcome to /r/depression's check-in post - a p...</td>\n",
       "      <td>Regular Check-In Post</td>\n",
       "      <td>1</td>\n",
       "    </tr>\n",
       "    <tr>\n",
       "      <th>1</th>\n",
       "      <td>I've been feeling pretty good the last few wee...</td>\n",
       "      <td>Depression cycles suck.</td>\n",
       "      <td>1</td>\n",
       "    </tr>\n",
       "    <tr>\n",
       "      <th>2</th>\n",
       "      <td>I've lost nearly 4 kg in six days through fast...</td>\n",
       "      <td>I did it.</td>\n",
       "      <td>1</td>\n",
       "    </tr>\n",
       "    <tr>\n",
       "      <th>3</th>\n",
       "      <td>When you are just a ghost for other people? No...</td>\n",
       "      <td>You know the feeling when you are literally no...</td>\n",
       "      <td>1</td>\n",
       "    </tr>\n",
       "    <tr>\n",
       "      <th>4</th>\n",
       "      <td>Long read bare with me.  So at a time where my...</td>\n",
       "      <td>What the West has all wrong. Why is there no l...</td>\n",
       "      <td>1</td>\n",
       "    </tr>\n",
       "  </tbody>\n",
       "</table>\n",
       "</div>"
      ],
      "text/plain": [
       "                                            selftext  \\\n",
       "0  Welcome to /r/depression's check-in post - a p...   \n",
       "1  I've been feeling pretty good the last few wee...   \n",
       "2  I've lost nearly 4 kg in six days through fast...   \n",
       "3  When you are just a ghost for other people? No...   \n",
       "4  Long read bare with me.  So at a time where my...   \n",
       "\n",
       "                                               title  subreddit  \n",
       "0                              Regular Check-In Post          1  \n",
       "1                            Depression cycles suck.          1  \n",
       "2                                          I did it.          1  \n",
       "3  You know the feeling when you are literally no...          1  \n",
       "4  What the West has all wrong. Why is there no l...          1  "
      ]
     },
     "execution_count": 13,
     "metadata": {},
     "output_type": "execute_result"
    }
   ],
   "source": [
    "df['subreddit'] = df['subreddit'].map({'depression': 1, 'rant': 0})\n",
    "df.head()"
   ]
  },
  {
   "cell_type": "code",
   "execution_count": 14,
   "metadata": {},
   "outputs": [
    {
     "data": {
      "text/html": [
       "<div>\n",
       "<style scoped>\n",
       "    .dataframe tbody tr th:only-of-type {\n",
       "        vertical-align: middle;\n",
       "    }\n",
       "\n",
       "    .dataframe tbody tr th {\n",
       "        vertical-align: top;\n",
       "    }\n",
       "\n",
       "    .dataframe thead th {\n",
       "        text-align: right;\n",
       "    }\n",
       "</style>\n",
       "<table border=\"1\" class=\"dataframe\">\n",
       "  <thead>\n",
       "    <tr style=\"text-align: right;\">\n",
       "      <th></th>\n",
       "      <th>selftext</th>\n",
       "      <th>title</th>\n",
       "      <th>subreddit</th>\n",
       "    </tr>\n",
       "  </thead>\n",
       "  <tbody>\n",
       "    <tr>\n",
       "      <th>1951</th>\n",
       "      <td>I get purchasing for no ads but I hate members...</td>\n",
       "      <td>Memberships for \"extra privileges\" are just a ...</td>\n",
       "      <td>0</td>\n",
       "    </tr>\n",
       "    <tr>\n",
       "      <th>1952</th>\n",
       "      <td>So, if you play chess occasionally, like I do,...</td>\n",
       "      <td>Chess.com is the fucking worst.</td>\n",
       "      <td>0</td>\n",
       "    </tr>\n",
       "    <tr>\n",
       "      <th>1953</th>\n",
       "      <td>Stop shaming me because I worry about my futur...</td>\n",
       "      <td>You’re not free spirited or spontaneous, you’r...</td>\n",
       "      <td>0</td>\n",
       "    </tr>\n",
       "    <tr>\n",
       "      <th>1954</th>\n",
       "      <td>Holy fucking shit I hate my older sibling.  Al...</td>\n",
       "      <td>You're in your 30s. STOP TATTLING.</td>\n",
       "      <td>0</td>\n",
       "    </tr>\n",
       "    <tr>\n",
       "      <th>1955</th>\n",
       "      <td>FUCK BILL GATES AND FUCK MICROSOFT!!!!!  I am ...</td>\n",
       "      <td>Microsoft</td>\n",
       "      <td>0</td>\n",
       "    </tr>\n",
       "  </tbody>\n",
       "</table>\n",
       "</div>"
      ],
      "text/plain": [
       "                                               selftext  \\\n",
       "1951  I get purchasing for no ads but I hate members...   \n",
       "1952  So, if you play chess occasionally, like I do,...   \n",
       "1953  Stop shaming me because I worry about my futur...   \n",
       "1954  Holy fucking shit I hate my older sibling.  Al...   \n",
       "1955  FUCK BILL GATES AND FUCK MICROSOFT!!!!!  I am ...   \n",
       "\n",
       "                                                  title  subreddit  \n",
       "1951  Memberships for \"extra privileges\" are just a ...          0  \n",
       "1952                    Chess.com is the fucking worst.          0  \n",
       "1953  You’re not free spirited or spontaneous, you’r...          0  \n",
       "1954                 You're in your 30s. STOP TATTLING.          0  \n",
       "1955                                          Microsoft          0  "
      ]
     },
     "execution_count": 14,
     "metadata": {},
     "output_type": "execute_result"
    }
   ],
   "source": [
    "df.tail()"
   ]
  },
  {
   "cell_type": "markdown",
   "metadata": {
    "focus": false,
    "id": "db045898-1d2d-4af2-8e79-437c4c7546b4"
   },
   "source": [
    "## 2. NLP\n",
    "\n",
    "#### Use `CountVectorizer` or `TfidfVectorizer` from scikit-learn to create features from the thread titles and descriptions (NOTE: Not all threads have a description)\n",
    "- Examine using count or binary features in the model\n",
    "- Re-evaluate your models using these. Does this improve the model performance? \n",
    "- What text features are the most valuable? "
   ]
  },
  {
   "cell_type": "markdown",
   "metadata": {},
   "source": [
    "Let's create our training and test datasets."
   ]
  },
  {
   "cell_type": "code",
   "execution_count": 15,
   "metadata": {},
   "outputs": [],
   "source": [
    "y = list(df['subreddit'])\n",
    "X = df['title'] + \" \" + df['selftext']"
   ]
  },
  {
   "cell_type": "code",
   "execution_count": 16,
   "metadata": {},
   "outputs": [],
   "source": [
    "X_train, X_test, y_train, y_test = train_test_split(X, y, random_state=42, stratify=y)"
   ]
  },
  {
   "cell_type": "markdown",
   "metadata": {},
   "source": [
    "Now let's look at our first model attempt, in which we'll use CountVectorizer with Multinomial Naive-Bayes."
   ]
  },
  {
   "cell_type": "markdown",
   "metadata": {},
   "source": [
    "### a) CountVectorizer with Multinomial Naive-Bayes"
   ]
  },
  {
   "cell_type": "markdown",
   "metadata": {},
   "source": [
    "#### i) Without stopwords"
   ]
  },
  {
   "cell_type": "markdown",
   "metadata": {},
   "source": [
    "Let's instantiate our CountVectorizer and MultinomialNB models. Explanations:\n",
    "- **CountVectorizer**: can convert a collection of text documents to a matrix of token counts so we can analyze words numerically using classification models.\n",
    "- **MultinomialNB**: we use this naive bayes model in situations where we have a bi- or multi-nomial distribution, and uses Bayes' theorem to figure out the probability of A | B. In our case, the probability of Subreddit 1 | Post Content."
   ]
  },
  {
   "cell_type": "code",
   "execution_count": 17,
   "metadata": {},
   "outputs": [],
   "source": [
    "vec = CountVectorizer()\n",
    "model = MultinomialNB()"
   ]
  },
  {
   "cell_type": "code",
   "execution_count": 18,
   "metadata": {},
   "outputs": [],
   "source": [
    "pipe = Pipeline([\n",
    "    ('vec', vec),\n",
    "    ('model', model)\n",
    "])"
   ]
  },
  {
   "cell_type": "markdown",
   "metadata": {},
   "source": [
    "The gridsearch parameters below are the final, optimal parameters that resulted from my testing. I am not showing all the parameters I tested in this notebook, to reduce computation time."
   ]
  },
  {
   "cell_type": "markdown",
   "metadata": {},
   "source": [
    "Let's do this first without including stopwords and run some tests to see if any of the stopwords are mentioned in a meaningfully different way in one Subreddit vs. another."
   ]
  },
  {
   "cell_type": "markdown",
   "metadata": {},
   "source": [
    "I will optimize my min_df feature (to include only words that occur in a minimum of 3 documents) and set a max features of 2,500 (to drop out irrelevant words or features that will not have much power in helping me make a classification)."
   ]
  },
  {
   "cell_type": "code",
   "execution_count": 19,
   "metadata": {},
   "outputs": [],
   "source": [
    "params = {\n",
    "#     'vec__stop_words': ['english'],\n",
    "    'vec__min_df': [3],\n",
    "    'vec__max_features': [2500]\n",
    "}\n",
    "gs = GridSearchCV(pipe, param_grid = params)\n",
    "gs.fit(X_train, y_train);"
   ]
  },
  {
   "cell_type": "code",
   "execution_count": 20,
   "metadata": {},
   "outputs": [
    {
     "data": {
      "text/plain": [
       "{'vec__max_features': 2500, 'vec__min_df': 3}"
      ]
     },
     "execution_count": 20,
     "metadata": {},
     "output_type": "execute_result"
    }
   ],
   "source": [
    "gs.best_params_"
   ]
  },
  {
   "cell_type": "markdown",
   "metadata": {},
   "source": [
    "Let's check out our scores."
   ]
  },
  {
   "cell_type": "code",
   "execution_count": 21,
   "metadata": {},
   "outputs": [
    {
     "data": {
      "text/plain": [
       "0.8997955010224948"
      ]
     },
     "execution_count": 21,
     "metadata": {},
     "output_type": "execute_result"
    }
   ],
   "source": [
    "gs.best_score_"
   ]
  },
  {
   "cell_type": "code",
   "execution_count": 22,
   "metadata": {},
   "outputs": [
    {
     "data": {
      "text/plain": [
       "0.9038854805725971"
      ]
     },
     "execution_count": 22,
     "metadata": {},
     "output_type": "execute_result"
    }
   ],
   "source": [
    "gs.score(X_test, y_test)"
   ]
  },
  {
   "cell_type": "markdown",
   "metadata": {},
   "source": [
    "Our scores look pretty good! Let's make predictions based on our model and look at a confusion matrix to see how accurate we are in our predictions."
   ]
  },
  {
   "cell_type": "code",
   "execution_count": 23,
   "metadata": {},
   "outputs": [],
   "source": [
    "y_pred = gs.best_estimator_.predict(X_test)"
   ]
  },
  {
   "cell_type": "code",
   "execution_count": 24,
   "metadata": {},
   "outputs": [
    {
     "data": {
      "text/plain": [
       "array([[214,  30],\n",
       "       [ 17, 228]])"
      ]
     },
     "execution_count": 24,
     "metadata": {},
     "output_type": "execute_result"
    }
   ],
   "source": [
    "confusion_matrix(y_test, y_pred)"
   ]
  },
  {
   "cell_type": "code",
   "execution_count": 25,
   "metadata": {},
   "outputs": [
    {
     "data": {
      "text/plain": [
       "(244, 245)"
      ]
     },
     "execution_count": 25,
     "metadata": {},
     "output_type": "execute_result"
    }
   ],
   "source": [
    "y_test.count(0), y_test.count(1)"
   ]
  },
  {
   "cell_type": "code",
   "execution_count": 26,
   "metadata": {},
   "outputs": [
    {
     "name": "stdout",
     "output_type": "stream",
     "text": [
      "True Negatives: 214\n",
      "False Positives: 30\n",
      "False Negatives: 17\n",
      "True Positives: 228\n"
     ]
    }
   ],
   "source": [
    "tn, fp, fn, tp = confusion_matrix(y_test, y_pred).ravel()\n",
    "print(\"True Negatives: %s\" % tn)\n",
    "print(\"False Positives: %s\" % fp)\n",
    "print(\"False Negatives: %s\" % fn)\n",
    "print(\"True Positives: %s\" % tp)"
   ]
  },
  {
   "cell_type": "markdown",
   "metadata": {},
   "source": [
    "We are getting pretty accurate scores! In my analysis, I am trying to minimize false negatives (meaning: I do not want tell someone they don't have depression when they actually DO). The way to measure the impact false negatives is having on my model is by looking at Recall:\n",
    "\n",
    "$$ {\\displaystyle {\\text{Recall}}={\\frac {tp}{tp+fn}}\\,} $$\n",
    "\n",
    "$$ {\\displaystyle {\\text{Recall}}={\\frac {228}{228+17}}\\,} $$\n",
    "\n",
    "$$ {\\text{Recall}} = 93.1\\% $$\n",
    "\n",
    "This means we can look at our model and claim with 93% accuracy whether or a not particular post has characteristics of being from the rant or the depression subreddit. We can use this as a proxy for whether or not a person may be depressed. We may eventually find a post that is from the rant subreddit but has characteristics of a depressed subreddit post."
   ]
  },
  {
   "cell_type": "markdown",
   "metadata": {},
   "source": [
    "The below groups feature counts by Subreddit class. This is useful to look at but it may be better to look at the word count per document."
   ]
  },
  {
   "cell_type": "code",
   "execution_count": 27,
   "metadata": {},
   "outputs": [
    {
     "data": {
      "text/plain": [
       "array([[ 7., 58., 22., ..., 22., 51.,  6.],\n",
       "       [ 1., 30., 20., ..., 20.,  6., 12.]])"
      ]
     },
     "execution_count": 27,
     "metadata": {},
     "output_type": "execute_result"
    }
   ],
   "source": [
    "# groups counts by subreddit (class)\n",
    "gs.best_estimator_.named_steps.model.feature_count_"
   ]
  },
  {
   "cell_type": "markdown",
   "metadata": {},
   "source": [
    "The below shows us our word counts per document."
   ]
  },
  {
   "cell_type": "code",
   "execution_count": 28,
   "metadata": {},
   "outputs": [
    {
     "data": {
      "text/plain": [
       "array([[0, 0, 0, ..., 0, 0, 0],\n",
       "       [0, 0, 0, ..., 0, 1, 0],\n",
       "       [0, 1, 0, ..., 0, 0, 0],\n",
       "       ...,\n",
       "       [0, 0, 0, ..., 0, 0, 0],\n",
       "       [0, 0, 0, ..., 0, 0, 0],\n",
       "       [0, 0, 0, ..., 0, 0, 0]])"
      ]
     },
     "execution_count": 28,
     "metadata": {},
     "output_type": "execute_result"
    }
   ],
   "source": [
    "# counts words in each document\n",
    "gs.best_estimator_.named_steps.vec.transform(X_test).toarray()"
   ]
  },
  {
   "cell_type": "markdown",
   "metadata": {},
   "source": [
    "Let's put all this in a DataFrame so we can analyze it."
   ]
  },
  {
   "cell_type": "code",
   "execution_count": 29,
   "metadata": {},
   "outputs": [
    {
     "data": {
      "text/plain": [
       "(489, 2500)"
      ]
     },
     "execution_count": 29,
     "metadata": {},
     "output_type": "execute_result"
    }
   ],
   "source": [
    "cvec_features = pd.DataFrame(data=gs.best_estimator_.named_steps.vec.transform(X_test).toarray(),\n",
    "             columns=gs.best_estimator_.named_steps.vec.get_feature_names())\n",
    "cvec_features.shape"
   ]
  },
  {
   "cell_type": "code",
   "execution_count": 30,
   "metadata": {},
   "outputs": [],
   "source": [
    "cvec_features.insert(0, 'Subreddit', y_test)"
   ]
  },
  {
   "cell_type": "code",
   "execution_count": 31,
   "metadata": {},
   "outputs": [
    {
     "data": {
      "text/html": [
       "<div>\n",
       "<style scoped>\n",
       "    .dataframe tbody tr th:only-of-type {\n",
       "        vertical-align: middle;\n",
       "    }\n",
       "\n",
       "    .dataframe tbody tr th {\n",
       "        vertical-align: top;\n",
       "    }\n",
       "\n",
       "    .dataframe thead th {\n",
       "        text-align: right;\n",
       "    }\n",
       "</style>\n",
       "<table border=\"1\" class=\"dataframe\">\n",
       "  <thead>\n",
       "    <tr style=\"text-align: right;\">\n",
       "      <th></th>\n",
       "      <th>Subreddit</th>\n",
       "      <th>00</th>\n",
       "      <th>10</th>\n",
       "      <th>100</th>\n",
       "      <th>11</th>\n",
       "      <th>12</th>\n",
       "      <th>13</th>\n",
       "      <th>14</th>\n",
       "      <th>15</th>\n",
       "      <th>16</th>\n",
       "      <th>...</th>\n",
       "      <th>yet</th>\n",
       "      <th>you</th>\n",
       "      <th>young</th>\n",
       "      <th>younger</th>\n",
       "      <th>youngest</th>\n",
       "      <th>your</th>\n",
       "      <th>yours</th>\n",
       "      <th>yourself</th>\n",
       "      <th>youtube</th>\n",
       "      <th>zero</th>\n",
       "    </tr>\n",
       "  </thead>\n",
       "  <tbody>\n",
       "    <tr>\n",
       "      <th>0</th>\n",
       "      <td>0</td>\n",
       "      <td>0</td>\n",
       "      <td>0</td>\n",
       "      <td>0</td>\n",
       "      <td>0</td>\n",
       "      <td>0</td>\n",
       "      <td>0</td>\n",
       "      <td>0</td>\n",
       "      <td>0</td>\n",
       "      <td>0</td>\n",
       "      <td>...</td>\n",
       "      <td>0</td>\n",
       "      <td>4</td>\n",
       "      <td>0</td>\n",
       "      <td>0</td>\n",
       "      <td>0</td>\n",
       "      <td>1</td>\n",
       "      <td>0</td>\n",
       "      <td>0</td>\n",
       "      <td>0</td>\n",
       "      <td>0</td>\n",
       "    </tr>\n",
       "    <tr>\n",
       "      <th>1</th>\n",
       "      <td>0</td>\n",
       "      <td>0</td>\n",
       "      <td>0</td>\n",
       "      <td>0</td>\n",
       "      <td>0</td>\n",
       "      <td>0</td>\n",
       "      <td>0</td>\n",
       "      <td>0</td>\n",
       "      <td>0</td>\n",
       "      <td>0</td>\n",
       "      <td>...</td>\n",
       "      <td>0</td>\n",
       "      <td>0</td>\n",
       "      <td>0</td>\n",
       "      <td>0</td>\n",
       "      <td>0</td>\n",
       "      <td>0</td>\n",
       "      <td>0</td>\n",
       "      <td>0</td>\n",
       "      <td>1</td>\n",
       "      <td>0</td>\n",
       "    </tr>\n",
       "    <tr>\n",
       "      <th>2</th>\n",
       "      <td>0</td>\n",
       "      <td>0</td>\n",
       "      <td>1</td>\n",
       "      <td>0</td>\n",
       "      <td>0</td>\n",
       "      <td>0</td>\n",
       "      <td>0</td>\n",
       "      <td>0</td>\n",
       "      <td>0</td>\n",
       "      <td>0</td>\n",
       "      <td>...</td>\n",
       "      <td>0</td>\n",
       "      <td>2</td>\n",
       "      <td>0</td>\n",
       "      <td>0</td>\n",
       "      <td>0</td>\n",
       "      <td>0</td>\n",
       "      <td>0</td>\n",
       "      <td>0</td>\n",
       "      <td>0</td>\n",
       "      <td>0</td>\n",
       "    </tr>\n",
       "    <tr>\n",
       "      <th>3</th>\n",
       "      <td>1</td>\n",
       "      <td>0</td>\n",
       "      <td>0</td>\n",
       "      <td>0</td>\n",
       "      <td>0</td>\n",
       "      <td>0</td>\n",
       "      <td>0</td>\n",
       "      <td>0</td>\n",
       "      <td>0</td>\n",
       "      <td>0</td>\n",
       "      <td>...</td>\n",
       "      <td>0</td>\n",
       "      <td>0</td>\n",
       "      <td>0</td>\n",
       "      <td>0</td>\n",
       "      <td>0</td>\n",
       "      <td>0</td>\n",
       "      <td>0</td>\n",
       "      <td>0</td>\n",
       "      <td>0</td>\n",
       "      <td>0</td>\n",
       "    </tr>\n",
       "    <tr>\n",
       "      <th>4</th>\n",
       "      <td>0</td>\n",
       "      <td>0</td>\n",
       "      <td>0</td>\n",
       "      <td>0</td>\n",
       "      <td>0</td>\n",
       "      <td>0</td>\n",
       "      <td>0</td>\n",
       "      <td>0</td>\n",
       "      <td>0</td>\n",
       "      <td>0</td>\n",
       "      <td>...</td>\n",
       "      <td>0</td>\n",
       "      <td>5</td>\n",
       "      <td>0</td>\n",
       "      <td>0</td>\n",
       "      <td>0</td>\n",
       "      <td>0</td>\n",
       "      <td>0</td>\n",
       "      <td>0</td>\n",
       "      <td>1</td>\n",
       "      <td>0</td>\n",
       "    </tr>\n",
       "  </tbody>\n",
       "</table>\n",
       "<p>5 rows × 2501 columns</p>\n",
       "</div>"
      ],
      "text/plain": [
       "   Subreddit  00  10  100  11  12  13  14  15  16  ...   yet  you  young  \\\n",
       "0          0   0   0    0   0   0   0   0   0   0  ...     0    4      0   \n",
       "1          0   0   0    0   0   0   0   0   0   0  ...     0    0      0   \n",
       "2          0   0   1    0   0   0   0   0   0   0  ...     0    2      0   \n",
       "3          1   0   0    0   0   0   0   0   0   0  ...     0    0      0   \n",
       "4          0   0   0    0   0   0   0   0   0   0  ...     0    5      0   \n",
       "\n",
       "   younger  youngest  your  yours  yourself  youtube  zero  \n",
       "0        0         0     1      0         0        0     0  \n",
       "1        0         0     0      0         0        1     0  \n",
       "2        0         0     0      0         0        0     0  \n",
       "3        0         0     0      0         0        0     0  \n",
       "4        0         0     0      0         0        1     0  \n",
       "\n",
       "[5 rows x 2501 columns]"
      ]
     },
     "execution_count": 31,
     "metadata": {},
     "output_type": "execute_result"
    }
   ],
   "source": [
    "cvec_features.head()"
   ]
  },
  {
   "cell_type": "markdown",
   "metadata": {},
   "source": [
    "Let's now groupby each subreddit and sum all the features, and get the top 20 words by sum from each subreddit."
   ]
  },
  {
   "cell_type": "code",
   "execution_count": 32,
   "metadata": {},
   "outputs": [],
   "source": [
    "cvec_depression_top_20 = cvec_features.groupby('Subreddit').sum().T.sort_values(1, ascending=False).head(20)"
   ]
  },
  {
   "cell_type": "code",
   "execution_count": 33,
   "metadata": {},
   "outputs": [],
   "source": [
    "cvec_rant_top_20 = cvec_features.groupby('Subreddit').sum().T.sort_values(0, ascending=False).head(20)"
   ]
  },
  {
   "cell_type": "code",
   "execution_count": 34,
   "metadata": {},
   "outputs": [
    {
     "data": {
      "image/png": "[encoded data removed]",
      "text/plain": [
       "<Figure size 1080x432 with 2 Axes>"
      ]
     },
     "metadata": {},
     "output_type": "display_data"
    }
   ],
   "source": [
    "x = range(20)\n",
    "fig = plt.figure(figsize=(15,6))\n",
    "\n",
    "fig.add_subplot(121)\n",
    "\n",
    "plt.barh(x, cvec_depression_top_20[1][::-1])\n",
    "plt.yticks(x[::-1], cvec_depression_top_20.index, rotation=0, fontsize=13)\n",
    "plt.title('Top 20 Words in Depression')\n",
    "plt.xlabel('Overall Weight')\n",
    "\n",
    "fig.add_subplot(122)\n",
    "\n",
    "plt.barh(x, cvec_rant_top_20[0][::-1])\n",
    "plt.yticks(x[::-1], cvec_rant_top_20.index, rotation=0, fontsize=13)\n",
    "plt.title('Top 20 Words in Rant')\n",
    "plt.xlabel('Overall Weight');\n",
    "\n",
    "# list of words (word map)"
   ]
  },
  {
   "cell_type": "markdown",
   "metadata": {},
   "source": [
    "It's full of stopwords. Stopwords are not helpful as they have low to limited semantic meaning, so we should remove stopwords and re-run the analysis again. "
   ]
  },
  {
   "cell_type": "markdown",
   "metadata": {},
   "source": [
    "#### ii) Which similar words occur at a statistically significant rate that is different among the two documents?"
   ]
  },
  {
   "cell_type": "markdown",
   "metadata": {},
   "source": [
    "In the chart below, we can see the occurrences of most frequently occurring words in each subreddit. Some occur at a higher rate than others."
   ]
  },
  {
   "cell_type": "code",
   "execution_count": 35,
   "metadata": {
    "scrolled": false
   },
   "outputs": [
    {
     "data": {
      "image/png": "[encoded data removed]",
      "text/plain": [
       "<Figure size 1080x360 with 2 Axes>"
      ]
     },
     "metadata": {},
     "output_type": "display_data"
    }
   ],
   "source": [
    "figure, ax = plt.subplots(nrows = 1, ncols = 2, figsize = (15,5))\n",
    "ax[0].set_xlabel('Words')\n",
    "ax[1].set_xlabel('Words')\n",
    "ax[0].set_ylabel('Count')\n",
    "ax[1].set_ylabel('Count')\n",
    "\n",
    "cvec_depression_top_20.plot(ax = ax[0], \n",
    "                            title = 'Top Overlapping Words Sorted by Depression', \n",
    "                            kind='bar',\n",
    "                            fontsize=14)\n",
    "\n",
    "cvec_rant_top_20.plot(ax = ax[1], \n",
    "                      title = 'Top Overlapping Words Sorted by Rant', \n",
    "                      kind='bar',\n",
    "                      fontsize=14)\n",
    "\n",
    "ax[0].legend(labels=('Rant', 'Depression'))\n",
    "ax[1].legend(labels=('Rant', 'Depression'))\n",
    "\n",
    "figure.tight_layout(); "
   ]
  },
  {
   "cell_type": "markdown",
   "metadata": {},
   "source": [
    "Let's also look at words that are used at much higher rates in each respective subreddit than the other subreddit:\n",
    "\n",
    "|   | Depression |   | Rant |\n",
    "|---|------------|   |------|\n",
    "| 1 | my         |   | you  |\n",
    "| 2 | feel       |   | they |"
   ]
  },
  {
   "cell_type": "markdown",
   "metadata": {},
   "source": [
    "Let's put the 4 words identified above into a list. We will assess p-values on these words in terms of assessing the difference in the frequency of occurrence between one dataset and another."
   ]
  },
  {
   "cell_type": "code",
   "execution_count": 36,
   "metadata": {},
   "outputs": [],
   "source": [
    "cvec_top_words_overlap = ['my', 'feel', 'you', 'they']"
   ]
  },
  {
   "cell_type": "code",
   "execution_count": 37,
   "metadata": {},
   "outputs": [
    {
     "data": {
      "text/plain": [
       "4"
      ]
     },
     "execution_count": 37,
     "metadata": {},
     "output_type": "execute_result"
    }
   ],
   "source": [
    "len(cvec_top_words_overlap)"
   ]
  },
  {
   "cell_type": "markdown",
   "metadata": {},
   "source": [
    "$H_0$: The subreddits for depression and rant have the same mean frequency for word $x$ in cvec_top_words_overlap.\n",
    "\n",
    "$H_A$: The subreddits for depression and rant have a different mean frequency for word $x$ in cvec_top_words_overlap.\n",
    "\n",
    "We'll set our alpha at .05...\n",
    "\n",
    "... and create a dictionary with the p-values of each word."
   ]
  },
  {
   "cell_type": "code",
   "execution_count": 38,
   "metadata": {},
   "outputs": [],
   "source": [
    "cvec_ttest_dict = {}\n",
    "for word in cvec_top_words_overlap:\n",
    "    cvec_ttest_dict[word] = ttest_ind(cvec_features[cvec_features['Subreddit']==1][word],\n",
    "                                      cvec_features[cvec_features['Subreddit']==0][word])"
   ]
  },
  {
   "cell_type": "markdown",
   "metadata": {},
   "source": [
    "Below are the p-values for my 4 words:"
   ]
  },
  {
   "cell_type": "code",
   "execution_count": 39,
   "metadata": {},
   "outputs": [
    {
     "data": {
      "text/plain": [
       "{'my': Ttest_indResult(statistic=1.4629759908200508, pvalue=0.14411901670657165),\n",
       " 'feel': Ttest_indResult(statistic=5.288304370275943, pvalue=1.8682172101526957e-07),\n",
       " 'you': Ttest_indResult(statistic=-3.251612914045574, pvalue=0.0012270692556371743),\n",
       " 'they': Ttest_indResult(statistic=-4.075101654291635, pvalue=5.36976150936135e-05)}"
      ]
     },
     "execution_count": 39,
     "metadata": {},
     "output_type": "execute_result"
    }
   ],
   "source": [
    "cvec_ttest_dict"
   ]
  },
  {
   "cell_type": "markdown",
   "metadata": {},
   "source": [
    "Let's isolate just the p-values in a list:"
   ]
  },
  {
   "cell_type": "code",
   "execution_count": 40,
   "metadata": {},
   "outputs": [
    {
     "data": {
      "text/plain": [
       "[0.14411901670657165,\n",
       " 1.8682172101526957e-07,\n",
       " 0.0012270692556371743,\n",
       " 5.36976150936135e-05]"
      ]
     },
     "execution_count": 40,
     "metadata": {},
     "output_type": "execute_result"
    }
   ],
   "source": [
    "alphas = []\n",
    "for word in cvec_top_words_overlap:\n",
    "    alphas.append(cvec_ttest_dict[word][1])\n",
    "alphas"
   ]
  },
  {
   "cell_type": "markdown",
   "metadata": {},
   "source": [
    "Let's plot these p-values in a chart so we can visualize them and see if they are below our alpha of 0.05:"
   ]
  },
  {
   "cell_type": "code",
   "execution_count": 41,
   "metadata": {},
   "outputs": [
    {
     "data": {
      "image/png": "[encoded data removed]",
      "text/plain": [
       "<Figure size 504x360 with 1 Axes>"
      ]
     },
     "metadata": {},
     "output_type": "display_data"
    }
   ],
   "source": [
    "x = list(range(1,5))\n",
    "y = alphas\n",
    "labels = cvec_top_words_overlap\n",
    "\n",
    "plt.plot(x, y, 'bo', label='p-values')\n",
    "plt.axhline(y=0.05, xmin=0.05, xmax=0.95, ls = 'dashed', color='#ffa500', label='alpha')\n",
    "\n",
    "fig = plt.gcf()\n",
    "fig.set_size_inches(7,5)\n",
    "\n",
    "plt.xticks(x, labels, rotation='vertical', fontsize=16)\n",
    "plt.yticks(fontsize=12)\n",
    "plt.legend(loc=5, fontsize=12)\n",
    "plt.margins(0.1)\n",
    "plt.subplots_adjust(bottom=0.15)\n",
    "plt.show()"
   ]
  },
  {
   "cell_type": "markdown",
   "metadata": {},
   "source": [
    "Three out of the four words (feel, you, they) are well below our alpha of 0.05. _You_ and _they_ are considered stop-words, so I won't include them in my analysis. _Feel_ is not a stopword so it will always be included in my analysis. So we don't need to do further work here."
   ]
  },
  {
   "cell_type": "markdown",
   "metadata": {},
   "source": [
    "#### iii) with stopwords"
   ]
  },
  {
   "cell_type": "markdown",
   "metadata": {},
   "source": [
    "Let's take the default list of ENGLISH STOP WORDS, add in punctuation, and a few keywords related to depression (since words related to depression are most likely a dead give away that the post comes from the depression subreddit)."
   ]
  },
  {
   "cell_type": "code",
   "execution_count": 42,
   "metadata": {},
   "outputs": [],
   "source": [
    "custom_stopwords = (list(ENGLISH_STOP_WORDS) + list(punctuation) + \n",
    "                       ['ve','ll','don','x200b', 'x0b', 'amp', 'going']\n",
    "                       + \n",
    "                       ['depres', 'depress', 'depression', \n",
    "                        'depressed', 'depressive', 'depresion']\n",
    "                   )"
   ]
  },
  {
   "cell_type": "markdown",
   "metadata": {},
   "source": [
    "Let's re-start our model and re-run it with our custom stopwords."
   ]
  },
  {
   "cell_type": "code",
   "execution_count": 43,
   "metadata": {},
   "outputs": [],
   "source": [
    "vec = CountVectorizer()\n",
    "model = MultinomialNB()"
   ]
  },
  {
   "cell_type": "code",
   "execution_count": 44,
   "metadata": {},
   "outputs": [],
   "source": [
    "pipe = Pipeline([\n",
    "    ('vec', vec),\n",
    "    ('model', model)\n",
    "])"
   ]
  },
  {
   "cell_type": "markdown",
   "metadata": {},
   "source": [
    "The preprocessing parameter below removes numeric features."
   ]
  },
  {
   "cell_type": "code",
   "execution_count": 45,
   "metadata": {},
   "outputs": [],
   "source": [
    "params = {\n",
    "    'vec__stop_words': [custom_stopwords],\n",
    "    'vec__preprocessor': [lambda x: re.sub(r'(\\d[\\d\\.])+', '', x.lower())],\n",
    "    'vec__min_df': [3],\n",
    "    'vec__max_features': [2500]\n",
    "}\n",
    "gs = GridSearchCV(pipe, param_grid = params)\n",
    "gs.fit(X_train, y_train);"
   ]
  },
  {
   "cell_type": "markdown",
   "metadata": {},
   "source": [
    "Let's check out our scores."
   ]
  },
  {
   "cell_type": "code",
   "execution_count": 46,
   "metadata": {},
   "outputs": [
    {
     "data": {
      "text/plain": [
       "0.8841172460804363"
      ]
     },
     "execution_count": 46,
     "metadata": {},
     "output_type": "execute_result"
    }
   ],
   "source": [
    "gs.best_score_"
   ]
  },
  {
   "cell_type": "code",
   "execution_count": 47,
   "metadata": {},
   "outputs": [
    {
     "data": {
      "text/plain": [
       "0.8936605316973415"
      ]
     },
     "execution_count": 47,
     "metadata": {},
     "output_type": "execute_result"
    }
   ],
   "source": [
    "gs.score(X_test, y_test)"
   ]
  },
  {
   "cell_type": "markdown",
   "metadata": {},
   "source": [
    "Our scores look pretty good! Let's make predictions based on our model and look at a confusion matrix to see how accurate we are in our predictions."
   ]
  },
  {
   "cell_type": "code",
   "execution_count": 48,
   "metadata": {},
   "outputs": [],
   "source": [
    "y_pred = gs.best_estimator_.predict(X_test)"
   ]
  },
  {
   "cell_type": "code",
   "execution_count": 49,
   "metadata": {},
   "outputs": [
    {
     "data": {
      "text/plain": [
       "array([[213,  31],\n",
       "       [ 21, 224]])"
      ]
     },
     "execution_count": 49,
     "metadata": {},
     "output_type": "execute_result"
    }
   ],
   "source": [
    "confusion_matrix(y_test, y_pred)"
   ]
  },
  {
   "cell_type": "code",
   "execution_count": 50,
   "metadata": {},
   "outputs": [
    {
     "name": "stdout",
     "output_type": "stream",
     "text": [
      "True Negatives: 213\n",
      "False Positives: 31\n",
      "False Negatives: 21\n",
      "True Positives: 224\n"
     ]
    }
   ],
   "source": [
    "tn, fp, fn, tp = confusion_matrix(y_test, y_pred).ravel()\n",
    "print(\"True Negatives: %s\" % tn)\n",
    "print(\"False Positives: %s\" % fp)\n",
    "print(\"False Negatives: %s\" % fn)\n",
    "print(\"True Positives: %s\" % tp)"
   ]
  },
  {
   "cell_type": "markdown",
   "metadata": {},
   "source": [
    "Our scores have gone down, but the interpretability of our model has probably improved, since we removed stopwords! Let's look at our Recall metric again:\n",
    "\n",
    "$$ {\\displaystyle {\\text{Recall}}={\\frac {tp}{tp+fn}}\\,} $$\n",
    "\n",
    "$$ {\\displaystyle {\\text{Recall}}={\\frac {224}{224+21}}\\,} $$\n",
    "\n",
    "$$ {\\text{Recall}} = 91.4\\% $$\n",
    "\n",
    "This means we can look at our model and claim with 91% accuracy whether or a not particular post is from the rant or the depression subreddit. We can use this as a proxy for whether or not a person may be depressed."
   ]
  },
  {
   "cell_type": "code",
   "execution_count": 51,
   "metadata": {},
   "outputs": [
    {
     "data": {
      "text/plain": [
       "(489, 2500)"
      ]
     },
     "execution_count": 51,
     "metadata": {},
     "output_type": "execute_result"
    }
   ],
   "source": [
    "cvec_features = pd.DataFrame(data=gs.best_estimator_.named_steps.vec.transform(X_test).toarray(),\n",
    "             columns=gs.best_estimator_.named_steps.vec.get_feature_names())\n",
    "cvec_features.shape"
   ]
  },
  {
   "cell_type": "code",
   "execution_count": 52,
   "metadata": {},
   "outputs": [],
   "source": [
    "cvec_features.insert(0, 'Subreddit', y_test)"
   ]
  },
  {
   "cell_type": "code",
   "execution_count": 53,
   "metadata": {},
   "outputs": [],
   "source": [
    "cvec_depression_top_20 = cvec_features.groupby('Subreddit').sum().T.sort_values(1, ascending=False).head(20)"
   ]
  },
  {
   "cell_type": "code",
   "execution_count": 54,
   "metadata": {},
   "outputs": [],
   "source": [
    "cvec_rant_top_20 = cvec_features.groupby('Subreddit').sum().T.sort_values(0, ascending=False).head(20)"
   ]
  },
  {
   "cell_type": "markdown",
   "metadata": {},
   "source": [
    "Below, let's look at the frequency of words occurring between subreddits."
   ]
  },
  {
   "cell_type": "code",
   "execution_count": 55,
   "metadata": {
    "scrolled": true
   },
   "outputs": [
    {
     "data": {
      "image/png": "[encoded data removed]",
      "text/plain": [
       "<Figure size 1080x360 with 2 Axes>"
      ]
     },
     "metadata": {},
     "output_type": "display_data"
    }
   ],
   "source": [
    "figure, ax = plt.subplots(nrows = 1, ncols = 2, figsize = (15,5))\n",
    "ax[0].set_xlabel('Words')\n",
    "ax[1].set_xlabel('Words')\n",
    "ax[0].set_ylabel('Count')\n",
    "ax[1].set_ylabel('Count')\n",
    "\n",
    "cvec_depression_top_20.plot(ax = ax[0], \n",
    "                            title = 'Top Overlapping Words Sorted by Depression', \n",
    "                            kind='bar',\n",
    "                            fontsize=14)\n",
    "\n",
    "cvec_rant_top_20.plot(ax = ax[1], \n",
    "                      title = 'Top Overlapping Words Sorted by Rant', \n",
    "                      kind='bar',\n",
    "                      fontsize=14)\n",
    "\n",
    "ax[0].legend(labels=('Rant', 'Depression'))\n",
    "ax[1].legend(labels=('Rant', 'Depression'))\n",
    "\n",
    "figure.tight_layout(); "
   ]
  },
  {
   "cell_type": "markdown",
   "metadata": {},
   "source": [
    "Good. It looks like there is more variety in how often words occur in one subreddit vs. another. That will help our model differentiate between posts better."
   ]
  },
  {
   "cell_type": "markdown",
   "metadata": {},
   "source": [
    "Below is a easily-readable view of the top 20 words in each subreddit that explain the variances in our inputs."
   ]
  },
  {
   "cell_type": "code",
   "execution_count": 56,
   "metadata": {
    "scrolled": false
   },
   "outputs": [
    {
     "data": {
      "image/png": "[encoded data removed]",
      "text/plain": [
       "<Figure size 1080x432 with 2 Axes>"
      ]
     },
     "metadata": {},
     "output_type": "display_data"
    }
   ],
   "source": [
    "x = range(20)\n",
    "fig = plt.figure(figsize=(15,6))\n",
    "\n",
    "fig.add_subplot(121)\n",
    "\n",
    "plt.barh(x, cvec_depression_top_20[1][::-1])\n",
    "plt.yticks(x[::-1], cvec_depression_top_20.index, rotation=0, fontsize=13)\n",
    "plt.title('Top 20 Words in Depression')\n",
    "plt.xlabel('Overall Weight')\n",
    "\n",
    "fig.add_subplot(122)\n",
    "\n",
    "plt.barh(x, cvec_rant_top_20[0][::-1])\n",
    "plt.yticks(x[::-1], cvec_rant_top_20.index, rotation=0, fontsize=13)\n",
    "plt.title('Top 20 Words in Rant')\n",
    "plt.xlabel('Overall Weight');\n",
    "\n",
    "# list of words (word map)"
   ]
  },
  {
   "cell_type": "markdown",
   "metadata": {},
   "source": [
    "Now that we have a good set of custom stopwords, lets run some more models using other vectorizing tools such as the **TFIDF vectorizer** (which assigns weights to words given their occurrence but also their frequency in the full corpus of documents, making extremely common words have less weight because their relative invariance will not help us explain overall variance) and models like **LogisticRegression** to see if any of them improve on our CountVectorizer + MultinomialNB model."
   ]
  },
  {
   "cell_type": "markdown",
   "metadata": {},
   "source": [
    "### b) TF-IDF with Multinomial Naive-Bayes"
   ]
  },
  {
   "cell_type": "code",
   "execution_count": 57,
   "metadata": {},
   "outputs": [],
   "source": [
    "vec = TfidfVectorizer()\n",
    "model = MultinomialNB()"
   ]
  },
  {
   "cell_type": "code",
   "execution_count": 58,
   "metadata": {},
   "outputs": [],
   "source": [
    "pipe = Pipeline([\n",
    "    ('vec', vec),\n",
    "    ('model', model)\n",
    "])"
   ]
  },
  {
   "cell_type": "markdown",
   "metadata": {},
   "source": [
    "The gridsearch parameters below are the final, optimal parameters that resulted from my testing. I am not showing all the parameters I tested in this notebook, to reduce computation time."
   ]
  },
  {
   "cell_type": "code",
   "execution_count": 59,
   "metadata": {},
   "outputs": [],
   "source": [
    "params = {\n",
    "    'vec__stop_words': [custom_stopwords],\n",
    "    'vec__preprocessor': [lambda x: re.sub(r'(\\d[\\d\\.])+', '', x.lower())],\n",
    "    'vec__min_df': [10],\n",
    "    'vec__max_features': [1500]\n",
    "}\n",
    "gs = GridSearchCV(pipe, param_grid = params)\n",
    "gs.fit(X_train, y_train);"
   ]
  },
  {
   "cell_type": "code",
   "execution_count": 60,
   "metadata": {},
   "outputs": [
    {
     "data": {
      "text/plain": [
       "0.8704839809134287"
      ]
     },
     "execution_count": 60,
     "metadata": {},
     "output_type": "execute_result"
    }
   ],
   "source": [
    "gs.best_score_"
   ]
  },
  {
   "cell_type": "code",
   "execution_count": 61,
   "metadata": {},
   "outputs": [
    {
     "data": {
      "text/plain": [
       "0.8834355828220859"
      ]
     },
     "execution_count": 61,
     "metadata": {},
     "output_type": "execute_result"
    }
   ],
   "source": [
    "gs.score(X_test, y_test)"
   ]
  },
  {
   "cell_type": "code",
   "execution_count": 62,
   "metadata": {},
   "outputs": [],
   "source": [
    "y_pred = gs.best_estimator_.predict(X_test)"
   ]
  },
  {
   "cell_type": "code",
   "execution_count": 63,
   "metadata": {},
   "outputs": [
    {
     "data": {
      "text/plain": [
       "array([[203,  41],\n",
       "       [ 16, 229]])"
      ]
     },
     "execution_count": 63,
     "metadata": {},
     "output_type": "execute_result"
    }
   ],
   "source": [
    "confusion_matrix(y_test, y_pred)"
   ]
  },
  {
   "cell_type": "code",
   "execution_count": 64,
   "metadata": {},
   "outputs": [
    {
     "data": {
      "text/plain": [
       "<matplotlib.axes._subplots.AxesSubplot at 0x1a186c3748>"
      ]
     },
     "execution_count": 64,
     "metadata": {},
     "output_type": "execute_result"
    },
    {
     "data": {
      "image/png": "[encoded data removed]",
      "text/plain": [
       "<Figure size 432x288 with 2 Axes>"
      ]
     },
     "metadata": {},
     "output_type": "display_data"
    }
   ],
   "source": [
    "sns.set(font_scale=1.4)\n",
    "sns.heatmap(confusion_matrix(y_test, y_pred), annot=True, fmt='g',\n",
    "           yticklabels = ['Neg. Actual', 'Pos. Actual'],\n",
    "           xticklabels = ['Neg. Guess', 'Pos. Guess'],\n",
    "           annot_kws={\"size\": 16},)"
   ]
  },
  {
   "cell_type": "code",
   "execution_count": 65,
   "metadata": {},
   "outputs": [
    {
     "name": "stdout",
     "output_type": "stream",
     "text": [
      "True Negatives: 203\n",
      "False Positives: 41\n",
      "False Negatives: 16\n",
      "True Positives: 229\n"
     ]
    }
   ],
   "source": [
    "tn, fp, fn, tp = confusion_matrix(y_test, y_pred).ravel()\n",
    "print(\"True Negatives: %s\" % tn)\n",
    "print(\"False Positives: %s\" % fp)\n",
    "print(\"False Negatives: %s\" % fn)\n",
    "print(\"True Positives: %s\" % tp)"
   ]
  },
  {
   "cell_type": "markdown",
   "metadata": {},
   "source": [
    "Our scores are relatively the same, but our recall metric has improved by using TF-IDF:\n",
    "\n",
    "$$ {\\displaystyle {\\text{Recall}}={\\frac {tp}{tp+fn}}\\,} $$\n",
    "\n",
    "$$ {\\displaystyle {\\text{Recall}}={\\frac {229}{229+16}}\\,} $$\n",
    "\n",
    "$$ {\\text{Recall}} = 93.5\\% $$\n",
    "\n",
    "Furthmore, by assigning \"weights\" to our features, our model is more interpretable. Let's look at the top 20 words in each subreddit:"
   ]
  },
  {
   "cell_type": "code",
   "execution_count": 66,
   "metadata": {},
   "outputs": [
    {
     "data": {
      "text/plain": [
       "(489, 1500)"
      ]
     },
     "execution_count": 66,
     "metadata": {},
     "output_type": "execute_result"
    }
   ],
   "source": [
    "vec_features = pd.DataFrame(data=gs.best_estimator_.named_steps.vec.transform(X_test).toarray(),\n",
    "             columns=gs.best_estimator_.named_steps.vec.get_feature_names())\n",
    "vec_features.shape"
   ]
  },
  {
   "cell_type": "code",
   "execution_count": 67,
   "metadata": {},
   "outputs": [],
   "source": [
    "vec_features.insert(0, 'Subreddit', y_test)"
   ]
  },
  {
   "cell_type": "code",
   "execution_count": 68,
   "metadata": {},
   "outputs": [],
   "source": [
    "vec_depression_top_20 = vec_features.groupby('Subreddit').sum().T.sort_values(1, ascending=False).head(20)\n",
    "vec_rant_top_20 = vec_features.groupby('Subreddit').sum().T.sort_values(0, ascending=False).head(20)"
   ]
  },
  {
   "cell_type": "code",
   "execution_count": 69,
   "metadata": {
    "scrolled": false
   },
   "outputs": [
    {
     "data": {
      "image/png": "[encoded data removed]",
      "text/plain": [
       "<Figure size 1080x432 with 2 Axes>"
      ]
     },
     "metadata": {},
     "output_type": "display_data"
    }
   ],
   "source": [
    "x = range(20)\n",
    "fig = plt.figure(figsize=(15,6))\n",
    "\n",
    "fig.add_subplot(121)\n",
    "\n",
    "plt.barh(x, vec_depression_top_20[1][::-1])\n",
    "plt.yticks(x[::-1], vec_depression_top_20.index, rotation=0, fontsize=13)\n",
    "plt.title('Top 20 Words in Depression')\n",
    "plt.xlabel('Overall Weight')\n",
    "\n",
    "fig.add_subplot(122)\n",
    "\n",
    "plt.barh(x, vec_rant_top_20[0][::-1])\n",
    "plt.yticks(x[::-1], vec_rant_top_20.index, rotation=0, fontsize=13)\n",
    "plt.title('Top 20 Words in Rant')\n",
    "plt.xlabel('Overall Weight');\n",
    "\n",
    "# list of words (word map)"
   ]
  },
  {
   "cell_type": "markdown",
   "metadata": {},
   "source": [
    "We can see a clear distinction and difference between the important words in each subreddit. Rant posts use a lot more profanity and the word \"don't\" and \"didn't\" and \"know\". Depressed posts use the word \"feel\" a lot, \"life\", \"people\", and \"friends\"."
   ]
  },
  {
   "cell_type": "markdown",
   "metadata": {},
   "source": [
    "Let's also try our two vectorizers (CountVec and TFIDF) with _Logistic Regression._\n",
    "\n",
    "The main difference between Multinomial Regression and Logistic Regression is:\n",
    "- **MultinomialNB**: a **generative** model, which models the distribution of individual classes. This is important in NLP because the distribution (frequency) of words in each class matters.\n",
    "- **LogisticRegression**: a discriminative model, which learns the (hard or soft) boundary between classes.\n",
    "\n",
    "Given the definitions above, I predict the MultinomialNB model will work better."
   ]
  },
  {
   "cell_type": "markdown",
   "metadata": {},
   "source": [
    "### c) CountVectorizer with Logistic Regression"
   ]
  },
  {
   "cell_type": "code",
   "execution_count": 70,
   "metadata": {},
   "outputs": [],
   "source": [
    "cvec = CountVectorizer()\n",
    "logreg = LogisticRegression()"
   ]
  },
  {
   "cell_type": "code",
   "execution_count": 71,
   "metadata": {},
   "outputs": [],
   "source": [
    "pipe = Pipeline([\n",
    "    ('cvec', cvec),\n",
    "    ('logreg', logreg)\n",
    "])"
   ]
  },
  {
   "cell_type": "code",
   "execution_count": 72,
   "metadata": {},
   "outputs": [],
   "source": [
    "params = {\n",
    "    'logreg__C': [0.6],\n",
    "    'logreg__penalty': ['l2'],\n",
    "    'cvec__stop_words': [custom_stopwords],\n",
    "    'cvec__preprocessor': [lambda x: re.sub(r'(\\d[\\d\\.])+', '', x.lower())],\n",
    "    'cvec__min_df': [10],\n",
    "    'cvec__max_features': [1500]\n",
    "}\n",
    "gs = GridSearchCV(pipe, param_grid = params)\n",
    "gs.fit(X_train, y_train);"
   ]
  },
  {
   "cell_type": "code",
   "execution_count": 73,
   "metadata": {},
   "outputs": [
    {
     "data": {
      "text/plain": [
       "0.8548057259713702"
      ]
     },
     "execution_count": 73,
     "metadata": {},
     "output_type": "execute_result"
    }
   ],
   "source": [
    "gs.best_score_"
   ]
  },
  {
   "cell_type": "code",
   "execution_count": 74,
   "metadata": {},
   "outputs": [
    {
     "data": {
      "text/plain": [
       "0.8650306748466258"
      ]
     },
     "execution_count": 74,
     "metadata": {},
     "output_type": "execute_result"
    }
   ],
   "source": [
    "gs.score(X_test, y_test)"
   ]
  },
  {
   "cell_type": "code",
   "execution_count": 75,
   "metadata": {},
   "outputs": [],
   "source": [
    "y_pred = gs.best_estimator_.predict(X_test)"
   ]
  },
  {
   "cell_type": "code",
   "execution_count": 76,
   "metadata": {},
   "outputs": [
    {
     "data": {
      "text/plain": [
       "array([[207,  37],\n",
       "       [ 29, 216]])"
      ]
     },
     "execution_count": 76,
     "metadata": {},
     "output_type": "execute_result"
    }
   ],
   "source": [
    "confusion_matrix(y_test, y_pred)"
   ]
  },
  {
   "cell_type": "code",
   "execution_count": 77,
   "metadata": {},
   "outputs": [
    {
     "name": "stdout",
     "output_type": "stream",
     "text": [
      "True Negatives: 207\n",
      "False Positives: 37\n",
      "False Negatives: 29\n",
      "True Positives: 216\n"
     ]
    }
   ],
   "source": [
    "tn, fp, fn, tp = confusion_matrix(y_test, y_pred).ravel()\n",
    "print(\"True Negatives: %s\" % tn)\n",
    "print(\"False Positives: %s\" % fp)\n",
    "print(\"False Negatives: %s\" % fn)\n",
    "print(\"True Positives: %s\" % tp)"
   ]
  },
  {
   "cell_type": "markdown",
   "metadata": {},
   "source": [
    "This logreg is not bad but not as good as our MultinomialNB logreg. Let's look at Logistic Regression again but this time with the TF-IDF vectorizer."
   ]
  },
  {
   "cell_type": "markdown",
   "metadata": {},
   "source": [
    "### d) TF-IDF with Logistic Regression"
   ]
  },
  {
   "cell_type": "code",
   "execution_count": 78,
   "metadata": {},
   "outputs": [],
   "source": [
    "tfidf = TfidfVectorizer()\n",
    "logreg = LogisticRegression()"
   ]
  },
  {
   "cell_type": "code",
   "execution_count": 79,
   "metadata": {},
   "outputs": [],
   "source": [
    "pipe = Pipeline([\n",
    "    ('tfidf', tfidf),\n",
    "    ('logreg', logreg)\n",
    "])"
   ]
  },
  {
   "cell_type": "code",
   "execution_count": 80,
   "metadata": {},
   "outputs": [],
   "source": [
    "params = {\n",
    "    'logreg__C': [0.6],\n",
    "    'logreg__penalty': ['l2'],\n",
    "    'tfidf__stop_words': [custom_stopwords],\n",
    "    'tfidf__preprocessor': [lambda x: re.sub(r'(\\d[\\d\\.])+', '', x.lower())],\n",
    "    'tfidf__min_df': [10],\n",
    "    'tfidf__max_features': [1500]\n",
    "}\n",
    "gs = GridSearchCV(pipe, param_grid = params)\n",
    "gs.fit(X_train, y_train);"
   ]
  },
  {
   "cell_type": "code",
   "execution_count": 81,
   "metadata": {},
   "outputs": [
    {
     "data": {
      "text/plain": [
       "0.8718473074301295"
      ]
     },
     "execution_count": 81,
     "metadata": {},
     "output_type": "execute_result"
    }
   ],
   "source": [
    "gs.best_score_"
   ]
  },
  {
   "cell_type": "code",
   "execution_count": 82,
   "metadata": {},
   "outputs": [
    {
     "data": {
      "text/plain": [
       "0.8834355828220859"
      ]
     },
     "execution_count": 82,
     "metadata": {},
     "output_type": "execute_result"
    }
   ],
   "source": [
    "gs.score(X_test, y_test)"
   ]
  },
  {
   "cell_type": "code",
   "execution_count": 83,
   "metadata": {},
   "outputs": [],
   "source": [
    "y_pred = gs.best_estimator_.predict(X_test)"
   ]
  },
  {
   "cell_type": "code",
   "execution_count": 84,
   "metadata": {},
   "outputs": [
    {
     "data": {
      "text/plain": [
       "array([[213,  31],\n",
       "       [ 26, 219]])"
      ]
     },
     "execution_count": 84,
     "metadata": {},
     "output_type": "execute_result"
    }
   ],
   "source": [
    "confusion_matrix(y_test, y_pred)"
   ]
  },
  {
   "cell_type": "code",
   "execution_count": 85,
   "metadata": {},
   "outputs": [
    {
     "name": "stdout",
     "output_type": "stream",
     "text": [
      "True Negatives: 213\n",
      "False Positives: 31\n",
      "False Negatives: 26\n",
      "True Positives: 219\n"
     ]
    }
   ],
   "source": [
    "tn, fp, fn, tp = confusion_matrix(y_test, y_pred).ravel()\n",
    "print(\"True Negatives: %s\" % tn)\n",
    "print(\"False Positives: %s\" % fp)\n",
    "print(\"False Negatives: %s\" % fn)\n",
    "print(\"True Positives: %s\" % tp)"
   ]
  },
  {
   "cell_type": "markdown",
   "metadata": {},
   "source": [
    "Our scores are slightly lower, and our recall metric has decreased:\n",
    "\n",
    "$$ {\\displaystyle {\\text{Recall}}={\\frac {tp}{tp+fn}}\\,} $$\n",
    "\n",
    "$$ {\\displaystyle {\\text{Recall}}={\\frac {219}{219+26}}\\,} $$\n",
    "\n",
    "$$ {\\text{Recall}} = 89.4\\% $$"
   ]
  },
  {
   "cell_type": "markdown",
   "metadata": {
    "focus": false,
    "id": "04563b69-f7b6-466f-9d65-fc62c9ddee6a"
   },
   "source": [
    "### e) TF-IDF with Random Forest"
   ]
  },
  {
   "cell_type": "markdown",
   "metadata": {},
   "source": [
    "Random forest is another model we can look at. Random forests are randomized groups of decision trees which are generally fast classifer models as they don't need to learn the data or make assumptions about how data is distributed."
   ]
  },
  {
   "cell_type": "code",
   "execution_count": 86,
   "metadata": {},
   "outputs": [],
   "source": [
    "rftfidf = TfidfVectorizer()\n",
    "rf = RandomForestClassifier()"
   ]
  },
  {
   "cell_type": "code",
   "execution_count": 87,
   "metadata": {},
   "outputs": [],
   "source": [
    "pipe = Pipeline([\n",
    "    ('rftfidf', rftfidf),\n",
    "    ('rf', rf)\n",
    "])"
   ]
  },
  {
   "cell_type": "code",
   "execution_count": 88,
   "metadata": {},
   "outputs": [],
   "source": [
    "params = {\n",
    "    'rf__n_estimators': [100], \n",
    "    'rf__max_depth': [20],\n",
    "    'rf__min_samples_split': [2],\n",
    "    'rf__max_features': [4],\n",
    "    'rftfidf__min_df': [2],\n",
    "    'rftfidf__max_features': [1500],\n",
    "    'rftfidf__stop_words': [custom_stopwords],\n",
    "    'rftfidf__preprocessor': [lambda x: re.sub(r'(\\d[\\d\\.])+', '', x.lower())]\n",
    "}\n",
    "\n",
    "gs = GridSearchCV(pipe, param_grid = params)\n",
    "gs.fit(X_train, y_train);"
   ]
  },
  {
   "cell_type": "code",
   "execution_count": 89,
   "metadata": {},
   "outputs": [
    {
     "data": {
      "text/plain": [
       "0.8513974096796183"
      ]
     },
     "execution_count": 89,
     "metadata": {},
     "output_type": "execute_result"
    }
   ],
   "source": [
    "gs.best_score_"
   ]
  },
  {
   "cell_type": "code",
   "execution_count": 90,
   "metadata": {},
   "outputs": [
    {
     "data": {
      "text/plain": [
       "0.8650306748466258"
      ]
     },
     "execution_count": 90,
     "metadata": {},
     "output_type": "execute_result"
    }
   ],
   "source": [
    "gs.score(X_test, y_test)"
   ]
  },
  {
   "cell_type": "code",
   "execution_count": 91,
   "metadata": {},
   "outputs": [],
   "source": [
    "y_pred = gs.best_estimator_.predict(X_test)"
   ]
  },
  {
   "cell_type": "code",
   "execution_count": 92,
   "metadata": {
    "scrolled": true
   },
   "outputs": [
    {
     "data": {
      "text/plain": [
       "array([[205,  39],\n",
       "       [ 27, 218]])"
      ]
     },
     "execution_count": 92,
     "metadata": {},
     "output_type": "execute_result"
    }
   ],
   "source": [
    "confusion_matrix(y_test, y_pred)"
   ]
  },
  {
   "cell_type": "code",
   "execution_count": 93,
   "metadata": {},
   "outputs": [
    {
     "name": "stdout",
     "output_type": "stream",
     "text": [
      "True Negatives: 205\n",
      "False Positives: 39\n",
      "False Negatives: 27\n",
      "True Positives: 218\n"
     ]
    }
   ],
   "source": [
    "tn, fp, fn, tp = confusion_matrix(y_test, y_pred).ravel()\n",
    "print(\"True Negatives: %s\" % tn)\n",
    "print(\"False Positives: %s\" % fp)\n",
    "print(\"False Negatives: %s\" % fn)\n",
    "print(\"True Positives: %s\" % tp)"
   ]
  },
  {
   "cell_type": "markdown",
   "metadata": {},
   "source": [
    "Our scores have gone down quite a lot, as well as our Recall metric again:\n",
    "\n",
    "$$ {\\displaystyle {\\text{Recall}}={\\frac {tp}{tp+fn}}\\,} $$\n",
    "\n",
    "$$ {\\displaystyle {\\text{Recall}}={\\frac {215}{215+30}}\\,} $$\n",
    "\n",
    "$$ {\\text{Recall}} = 87.8\\% $$"
   ]
  },
  {
   "cell_type": "markdown",
   "metadata": {},
   "source": [
    "## 3. Best model: (b) TF-IDF with MultinominalNB. Let's duplicate the model again, this time without gridsearch, with our final parameters."
   ]
  },
  {
   "cell_type": "code",
   "execution_count": 94,
   "metadata": {},
   "outputs": [
    {
     "data": {
      "text/plain": [
       "(0.9318336741649625, 0.8834355828220859)"
      ]
     },
     "execution_count": 94,
     "metadata": {},
     "output_type": "execute_result"
    }
   ],
   "source": [
    "tfidf = TfidfVectorizer(min_df = 10,\n",
    "                        stop_words = custom_stopwords,\n",
    "                        max_features = 1500,\n",
    "                        preprocessor = lambda x: re.sub(r'(\\d[\\d\\.])+', '', x.lower())\n",
    "                       )\n",
    "X_train_vect = tfidf.fit_transform(X_train)\n",
    "X_test_vect = tfidf.transform(X_test)\n",
    "\n",
    "model = MultinomialNB()\n",
    "model.fit(X_train_vect.toarray(), y_train)\n",
    "\n",
    "model.score(X_train_vect, y_train), model.score(X_test_vect, y_test)"
   ]
  },
  {
   "cell_type": "code",
   "execution_count": 95,
   "metadata": {},
   "outputs": [],
   "source": [
    "y_pred = model.predict(X_test_vect)"
   ]
  },
  {
   "cell_type": "code",
   "execution_count": 96,
   "metadata": {},
   "outputs": [
    {
     "data": {
      "text/plain": [
       "array([[203,  41],\n",
       "       [ 16, 229]])"
      ]
     },
     "execution_count": 96,
     "metadata": {},
     "output_type": "execute_result"
    }
   ],
   "source": [
    "confusion_matrix(y_test, y_pred)"
   ]
  },
  {
   "cell_type": "code",
   "execution_count": 97,
   "metadata": {},
   "outputs": [
    {
     "name": "stdout",
     "output_type": "stream",
     "text": [
      "True Negatives: 203\n",
      "False Positives: 41\n",
      "False Negatives: 16\n",
      "True Positives: 229\n"
     ]
    }
   ],
   "source": [
    "tn, fp, fn, tp = confusion_matrix(y_test, y_pred).ravel()\n",
    "print(\"True Negatives: %s\" % tn)\n",
    "print(\"False Positives: %s\" % fp)\n",
    "print(\"False Negatives: %s\" % fn)\n",
    "print(\"True Positives: %s\" % tp)"
   ]
  },
  {
   "cell_type": "markdown",
   "metadata": {},
   "source": [
    "Our scores have gone down slightly because we also took out any numerical features in the document, but that again improves the interpretability of our model! Let's look at our Recall metric again:\n",
    "\n",
    "$$ {\\displaystyle {\\text{Recall}}={\\frac {tp}{tp+fn}}\\,} $$\n",
    "\n",
    "$$ {\\displaystyle {\\text{Recall}}={\\frac {229}{229+16}}\\,} $$\n",
    "\n",
    "$$ {\\text{Recall}} = 93.5\\% $$\n",
    "\n",
    "This means we can look at our model and claim with 94% accuracy whether or a not particular post is from the rant or the depression subreddit. We can use this as a proxy for whether or not a person may be depressed."
   ]
  },
  {
   "cell_type": "code",
   "execution_count": 98,
   "metadata": {},
   "outputs": [
    {
     "data": {
      "text/plain": [
       "(489, 1500)"
      ]
     },
     "execution_count": 98,
     "metadata": {},
     "output_type": "execute_result"
    }
   ],
   "source": [
    "features = pd.DataFrame(data=X_test_vect.toarray(),\n",
    "             columns=tfidf.get_feature_names())\n",
    "features.shape"
   ]
  },
  {
   "cell_type": "code",
   "execution_count": 99,
   "metadata": {},
   "outputs": [],
   "source": [
    "features.insert(0, 'Subreddit', y_test)"
   ]
  },
  {
   "cell_type": "code",
   "execution_count": 100,
   "metadata": {},
   "outputs": [],
   "source": [
    "depression_top_20 = features.groupby('Subreddit').sum().T.sort_values(1, ascending=False).head(20)"
   ]
  },
  {
   "cell_type": "code",
   "execution_count": 101,
   "metadata": {},
   "outputs": [],
   "source": [
    "rant_top_20 = features.groupby('Subreddit').sum().T.sort_values(0, ascending=False).head(20)"
   ]
  },
  {
   "cell_type": "code",
   "execution_count": 102,
   "metadata": {},
   "outputs": [],
   "source": [
    "depression_top_40 = features.groupby('Subreddit').sum().T.sort_values(1, ascending=False).head(40)"
   ]
  },
  {
   "cell_type": "code",
   "execution_count": 103,
   "metadata": {},
   "outputs": [],
   "source": [
    "rant_top_40 = features.groupby('Subreddit').sum().T.sort_values(0, ascending=False).head(40)"
   ]
  },
  {
   "cell_type": "markdown",
   "metadata": {},
   "source": [
    "## 4. Try It!"
   ]
  },
  {
   "cell_type": "markdown",
   "metadata": {},
   "source": [
    "### a) Post from random sub-reddit"
   ]
  },
  {
   "cell_type": "markdown",
   "metadata": {},
   "source": [
    "Let's grab a random post from one of our Subreddits and see how our model interprets it."
   ]
  },
  {
   "cell_type": "code",
   "execution_count": 104,
   "metadata": {},
   "outputs": [],
   "source": [
    "corpus = pd.Series(\"\"\"Do you guys ever feel like life is passing you by?\n",
    "I’m 22 and I work full time, I’ve been through college and all that...now I’m in the \n",
    "same loop that demotivated me back in highschool. I just feel like everyday I wake \n",
    "up to be one step closer to death or I guess retirement and I’m not making any \n",
    "progress to the life that my soul wants to live. Want passion? Can’t seem to \n",
    "find it. Want fun? Opportunity comes up once a week and usually involves alcohol. \n",
    "Want love? Too bad nobody loves you. LOL. It’s this kind of negative thought \n",
    "process that I can’t get by. It’s Truly demotivating. Any of you guys have any advice \n",
    "or tips to get out of this rut?\"\"\")"
   ]
  },
  {
   "cell_type": "code",
   "execution_count": 105,
   "metadata": {},
   "outputs": [
    {
     "data": {
      "text/plain": [
       "0    1\n",
       "dtype: int64"
      ]
     },
     "execution_count": 105,
     "metadata": {},
     "output_type": "execute_result"
    }
   ],
   "source": [
    "y_corpus = pd.Series(1)\n",
    "y_corpus"
   ]
  },
  {
   "cell_type": "code",
   "execution_count": 106,
   "metadata": {},
   "outputs": [],
   "source": [
    "corpus_vect = tfidf.transform(corpus)"
   ]
  },
  {
   "cell_type": "code",
   "execution_count": 107,
   "metadata": {},
   "outputs": [
    {
     "data": {
      "text/plain": [
       "1.0"
      ]
     },
     "execution_count": 107,
     "metadata": {},
     "output_type": "execute_result"
    }
   ],
   "source": [
    "model.score(corpus_vect, y_corpus)"
   ]
  },
  {
   "cell_type": "code",
   "execution_count": 108,
   "metadata": {},
   "outputs": [
    {
     "data": {
      "text/plain": [
       "array([1])"
      ]
     },
     "execution_count": 108,
     "metadata": {},
     "output_type": "execute_result"
    }
   ],
   "source": [
    "model.predict(corpus_vect)"
   ]
  },
  {
   "cell_type": "code",
   "execution_count": 109,
   "metadata": {},
   "outputs": [
    {
     "data": {
      "text/html": [
       "<div>\n",
       "<style scoped>\n",
       "    .dataframe tbody tr th:only-of-type {\n",
       "        vertical-align: middle;\n",
       "    }\n",
       "\n",
       "    .dataframe tbody tr th {\n",
       "        vertical-align: top;\n",
       "    }\n",
       "\n",
       "    .dataframe thead th {\n",
       "        text-align: right;\n",
       "    }\n",
       "</style>\n",
       "<table border=\"1\" class=\"dataframe\">\n",
       "  <thead>\n",
       "    <tr style=\"text-align: right;\">\n",
       "      <th></th>\n",
       "      <th>0</th>\n",
       "    </tr>\n",
       "  </thead>\n",
       "  <tbody>\n",
       "    <tr>\n",
       "      <th>guys</th>\n",
       "      <td>0.304691</td>\n",
       "    </tr>\n",
       "    <tr>\n",
       "      <th>want</th>\n",
       "      <td>0.219972</td>\n",
       "    </tr>\n",
       "    <tr>\n",
       "      <th>opportunity</th>\n",
       "      <td>0.204348</td>\n",
       "    </tr>\n",
       "    <tr>\n",
       "      <th>highschool</th>\n",
       "      <td>0.204348</td>\n",
       "    </tr>\n",
       "    <tr>\n",
       "      <th>progress</th>\n",
       "      <td>0.204348</td>\n",
       "    </tr>\n",
       "    <tr>\n",
       "      <th>closer</th>\n",
       "      <td>0.201854</td>\n",
       "    </tr>\n",
       "    <tr>\n",
       "      <th>passion</th>\n",
       "      <td>0.199521</td>\n",
       "    </tr>\n",
       "    <tr>\n",
       "      <th>soul</th>\n",
       "      <td>0.193308</td>\n",
       "    </tr>\n",
       "    <tr>\n",
       "      <th>lol</th>\n",
       "      <td>0.184863</td>\n",
       "    </tr>\n",
       "    <tr>\n",
       "      <th>process</th>\n",
       "      <td>0.184863</td>\n",
       "    </tr>\n",
       "  </tbody>\n",
       "</table>\n",
       "</div>"
      ],
      "text/plain": [
       "                    0\n",
       "guys         0.304691\n",
       "want         0.219972\n",
       "opportunity  0.204348\n",
       "highschool   0.204348\n",
       "progress     0.204348\n",
       "closer       0.201854\n",
       "passion      0.199521\n",
       "soul         0.193308\n",
       "lol          0.184863\n",
       "process      0.184863"
      ]
     },
     "execution_count": 109,
     "metadata": {},
     "output_type": "execute_result"
    }
   ],
   "source": [
    "corp_feats = pd.DataFrame(corpus_vect.todense(),\n",
    "                   columns=tfidf.get_feature_names())\n",
    "corp_feats.T.sort_values(0, ascending=False).head(10)"
   ]
  },
  {
   "cell_type": "markdown",
   "metadata": {},
   "source": [
    "### b) Which common words between the two subreddits occur at statistically significant different rates?"
   ]
  },
  {
   "cell_type": "markdown",
   "metadata": {},
   "source": [
    "#### i) Let's make a list of the top words that overlap between each top 20 features list."
   ]
  },
  {
   "cell_type": "code",
   "execution_count": 110,
   "metadata": {},
   "outputs": [],
   "source": [
    "top_words_overlap = [word for word in depression_top_20.index if word in rant_top_20.index]"
   ]
  },
  {
   "cell_type": "markdown",
   "metadata": {},
   "source": [
    "Let's conduct a hypothesis test on this.\n",
    "\n",
    "$H_0$: The subreddits depression and rant have the same mean frequency for word $x$.\n",
    "\n",
    "$H_A$: The subreddits depression and rant have a different mean frequency for word $x$.\n",
    "\n",
    "We'll set our alpha at .05."
   ]
  },
  {
   "cell_type": "markdown",
   "metadata": {},
   "source": [
    "Let's use ttest_ind to compare the scores (describing frequency & importance) of the 9 features identified between each class."
   ]
  },
  {
   "cell_type": "code",
   "execution_count": 111,
   "metadata": {},
   "outputs": [],
   "source": [
    "ttest_dict = {}\n",
    "for word in top_words_overlap:\n",
    "    ttest_dict[word] = ttest_ind(features[features['Subreddit']==1][word], \n",
    "                                 features[features['Subreddit']==0][word])"
   ]
  },
  {
   "cell_type": "code",
   "execution_count": 112,
   "metadata": {},
   "outputs": [
    {
     "data": {
      "text/plain": [
       "{'just': Ttest_indResult(statistic=2.799246026464944, pvalue=0.005325526822806117),\n",
       " 'like': Ttest_indResult(statistic=1.3562728070815602, pvalue=0.17564083869428632),\n",
       " 'know': Ttest_indResult(statistic=3.1784919412063934, pvalue=0.0015746072324517595),\n",
       " 'people': Ttest_indResult(statistic=-1.855678635837857, pvalue=0.06410330779396696),\n",
       " 'want': Ttest_indResult(statistic=4.270689992037937, pvalue=2.3438779340797956e-05),\n",
       " 'really': Ttest_indResult(statistic=2.6195638897231395, pvalue=0.009078927178830307),\n",
       " 'time': Ttest_indResult(statistic=0.5183081459984037, pvalue=0.6044786884068798),\n",
       " 'think': Ttest_indResult(statistic=1.540026634468014, pvalue=0.12420333962101088),\n",
       " 'make': Ttest_indResult(statistic=1.0140567128613331, pvalue=0.3110592245200249)}"
      ]
     },
     "execution_count": 112,
     "metadata": {},
     "output_type": "execute_result"
    }
   ],
   "source": [
    "ttest_dict"
   ]
  },
  {
   "cell_type": "code",
   "execution_count": 113,
   "metadata": {},
   "outputs": [
    {
     "data": {
      "text/plain": [
       "9"
      ]
     },
     "execution_count": 113,
     "metadata": {},
     "output_type": "execute_result"
    }
   ],
   "source": [
    "len(ttest_dict)"
   ]
  },
  {
   "cell_type": "markdown",
   "metadata": {},
   "source": [
    "Let's isolate just the p-values:"
   ]
  },
  {
   "cell_type": "code",
   "execution_count": 114,
   "metadata": {},
   "outputs": [
    {
     "data": {
      "text/plain": [
       "[0.005325526822806117,\n",
       " 0.17564083869428632,\n",
       " 0.0015746072324517595,\n",
       " 0.06410330779396696,\n",
       " 2.3438779340797956e-05,\n",
       " 0.009078927178830307,\n",
       " 0.6044786884068798,\n",
       " 0.12420333962101088,\n",
       " 0.3110592245200249]"
      ]
     },
     "execution_count": 114,
     "metadata": {},
     "output_type": "execute_result"
    }
   ],
   "source": [
    "alphas = []\n",
    "for word in top_words_overlap:\n",
    "    alphas.append(ttest_dict[word][1])\n",
    "alphas"
   ]
  },
  {
   "cell_type": "markdown",
   "metadata": {},
   "source": [
    "Let's put those p-values in a graph and plot it alongside our alpha = 0.05."
   ]
  },
  {
   "cell_type": "code",
   "execution_count": 115,
   "metadata": {},
   "outputs": [
    {
     "data": {
      "image/png": "[encoded data removed]",
      "text/plain": [
       "<Figure size 504x360 with 1 Axes>"
      ]
     },
     "metadata": {},
     "output_type": "display_data"
    }
   ],
   "source": [
    "x = [1,2,3,4,5,6,7,8,9]\n",
    "y = alphas\n",
    "labels = top_words_overlap\n",
    "\n",
    "plt.plot(x, y, 'bo', label='p-values')\n",
    "plt.axhline(y=0.05, xmin=0.05, xmax=0.95, ls = 'dashed', color='#ffa500', label='alpha')\n",
    "\n",
    "fig = plt.gcf()\n",
    "fig.set_size_inches(7,5)\n",
    "\n",
    "plt.xticks(x, labels, rotation='vertical', fontsize=16)\n",
    "plt.yticks(fontsize=12)\n",
    "plt.legend(loc=2, fontsize=12)\n",
    "plt.margins(0.2)\n",
    "plt.subplots_adjust(bottom=0.15)\n",
    "plt.show()"
   ]
  },
  {
   "cell_type": "markdown",
   "metadata": {},
   "source": [
    "Four of our 9 words are below alpha = 0.05. We should keep a close look at these words 'just', 'want', 'know', and 'really' in our analyses, as they are common between the subreddits but occur at much different frequencies and carry different importance in each subreddit. \n",
    "\n",
    "All three words occur at higher weighted frequencies in the **Depression** subreddit than in the **Rant** subreddit."
   ]
  },
  {
   "cell_type": "markdown",
   "metadata": {},
   "source": [
    "#### ii) Lists of words that are different between subreddits"
   ]
  },
  {
   "cell_type": "markdown",
   "metadata": {},
   "source": [
    "- Words in top 20 **depression** not in top 20 rant"
   ]
  },
  {
   "cell_type": "code",
   "execution_count": 116,
   "metadata": {},
   "outputs": [
    {
     "data": {
      "text/plain": [
       "['day',\n",
       " 'things',\n",
       " 'feel',\n",
       " 'help',\n",
       " 'happy',\n",
       " 'good',\n",
       " 'years',\n",
       " 'feeling',\n",
       " 'friends',\n",
       " 'better',\n",
       " 'life']"
      ]
     },
     "execution_count": 116,
     "metadata": {},
     "output_type": "execute_result"
    }
   ],
   "source": [
    "list(set(depression_top_20.index) - set(rant_top_20.index))"
   ]
  },
  {
   "cell_type": "markdown",
   "metadata": {},
   "source": [
    "- Words in top 20 **rant** not in top 20 depression"
   ]
  },
  {
   "cell_type": "code",
   "execution_count": 117,
   "metadata": {},
   "outputs": [
    {
     "data": {
      "text/plain": [
       "['fuck',\n",
       " 'fucking',\n",
       " 'did',\n",
       " 'work',\n",
       " 'shit',\n",
       " 'stop',\n",
       " 'got',\n",
       " 'hate',\n",
       " 'say',\n",
       " 'need',\n",
       " 'didn']"
      ]
     },
     "execution_count": 117,
     "metadata": {},
     "output_type": "execute_result"
    }
   ],
   "source": [
    "list(set(rant_top_20.index) - set(depression_top_20.index))"
   ]
  },
  {
   "cell_type": "markdown",
   "metadata": {},
   "source": [
    "#### iii) Lists of words that are common between subreddits"
   ]
  },
  {
   "cell_type": "code",
   "execution_count": 118,
   "metadata": {},
   "outputs": [
    {
     "data": {
      "text/plain": [
       "['want', 'know', 'like', 'make', 'think', 'time', 'really', 'people', 'just']"
      ]
     },
     "execution_count": 118,
     "metadata": {},
     "output_type": "execute_result"
    }
   ],
   "source": [
    "list(set(depression_top_20.index).intersection(rant_top_20.index))"
   ]
  },
  {
   "cell_type": "markdown",
   "metadata": {},
   "source": [
    "### c) Compare documents where model predicted incorrectly:"
   ]
  },
  {
   "cell_type": "markdown",
   "metadata": {},
   "source": [
    "We want to see where our model is predicting a 1 (depression) but the document is actually a 0 (rant) (and vice versa) and read those posts to see if we can see signs of depression in the post."
   ]
  },
  {
   "cell_type": "markdown",
   "metadata": {},
   "source": [
    "In the below cell, let's bring in our posts from the test set into a DataFrame."
   ]
  },
  {
   "cell_type": "code",
   "execution_count": 119,
   "metadata": {
    "scrolled": true
   },
   "outputs": [
    {
     "data": {
      "text/html": [
       "<div>\n",
       "<style scoped>\n",
       "    .dataframe tbody tr th:only-of-type {\n",
       "        vertical-align: middle;\n",
       "    }\n",
       "\n",
       "    .dataframe tbody tr th {\n",
       "        vertical-align: top;\n",
       "    }\n",
       "\n",
       "    .dataframe thead th {\n",
       "        text-align: right;\n",
       "    }\n",
       "</style>\n",
       "<table border=\"1\" class=\"dataframe\">\n",
       "  <thead>\n",
       "    <tr style=\"text-align: right;\">\n",
       "      <th></th>\n",
       "      <th>post</th>\n",
       "    </tr>\n",
       "  </thead>\n",
       "  <tbody>\n",
       "    <tr>\n",
       "      <th>1952</th>\n",
       "      <td>Chess.com is the fucking worst. So, if you pla...</td>\n",
       "    </tr>\n",
       "    <tr>\n",
       "      <th>1928</th>\n",
       "      <td>Goddamn it. Why didn't I check for pens? Just ...</td>\n",
       "    </tr>\n",
       "    <tr>\n",
       "      <th>370</th>\n",
       "      <td>I still think about this a lot Warm July night...</td>\n",
       "    </tr>\n",
       "    <tr>\n",
       "      <th>1779</th>\n",
       "      <td>I can do so much for you I know this guy that ...</td>\n",
       "    </tr>\n",
       "    <tr>\n",
       "      <th>846</th>\n",
       "      <td>What happened to vaguebooking sad songs? I sti...</td>\n",
       "    </tr>\n",
       "  </tbody>\n",
       "</table>\n",
       "</div>"
      ],
      "text/plain": [
       "                                                   post\n",
       "1952  Chess.com is the fucking worst. So, if you pla...\n",
       "1928  Goddamn it. Why didn't I check for pens? Just ...\n",
       "370   I still think about this a lot Warm July night...\n",
       "1779  I can do so much for you I know this guy that ...\n",
       "846   What happened to vaguebooking sad songs? I sti..."
      ]
     },
     "execution_count": 119,
     "metadata": {},
     "output_type": "execute_result"
    }
   ],
   "source": [
    "pred_df = pd.DataFrame(X_test, columns=['post'])\n",
    "pred_df.tail()"
   ]
  },
  {
   "cell_type": "markdown",
   "metadata": {},
   "source": [
    "Let's reset the index here because the index is not providing any information."
   ]
  },
  {
   "cell_type": "code",
   "execution_count": 120,
   "metadata": {},
   "outputs": [
    {
     "data": {
      "text/html": [
       "<div>\n",
       "<style scoped>\n",
       "    .dataframe tbody tr th:only-of-type {\n",
       "        vertical-align: middle;\n",
       "    }\n",
       "\n",
       "    .dataframe tbody tr th {\n",
       "        vertical-align: top;\n",
       "    }\n",
       "\n",
       "    .dataframe thead th {\n",
       "        text-align: right;\n",
       "    }\n",
       "</style>\n",
       "<table border=\"1\" class=\"dataframe\">\n",
       "  <thead>\n",
       "    <tr style=\"text-align: right;\">\n",
       "      <th></th>\n",
       "      <th>post</th>\n",
       "    </tr>\n",
       "  </thead>\n",
       "  <tbody>\n",
       "    <tr>\n",
       "      <th>484</th>\n",
       "      <td>Chess.com is the fucking worst. So, if you pla...</td>\n",
       "    </tr>\n",
       "    <tr>\n",
       "      <th>485</th>\n",
       "      <td>Goddamn it. Why didn't I check for pens? Just ...</td>\n",
       "    </tr>\n",
       "    <tr>\n",
       "      <th>486</th>\n",
       "      <td>I still think about this a lot Warm July night...</td>\n",
       "    </tr>\n",
       "    <tr>\n",
       "      <th>487</th>\n",
       "      <td>I can do so much for you I know this guy that ...</td>\n",
       "    </tr>\n",
       "    <tr>\n",
       "      <th>488</th>\n",
       "      <td>What happened to vaguebooking sad songs? I sti...</td>\n",
       "    </tr>\n",
       "  </tbody>\n",
       "</table>\n",
       "</div>"
      ],
      "text/plain": [
       "                                                  post\n",
       "484  Chess.com is the fucking worst. So, if you pla...\n",
       "485  Goddamn it. Why didn't I check for pens? Just ...\n",
       "486  I still think about this a lot Warm July night...\n",
       "487  I can do so much for you I know this guy that ...\n",
       "488  What happened to vaguebooking sad songs? I sti..."
      ]
     },
     "execution_count": 120,
     "metadata": {},
     "output_type": "execute_result"
    }
   ],
   "source": [
    "pred_df.reset_index(drop=True, inplace=True)\n",
    "pred_df.tail()"
   ]
  },
  {
   "cell_type": "markdown",
   "metadata": {},
   "source": [
    "Let's add our probabilities that the model predicted 1 (our target, Depression)."
   ]
  },
  {
   "cell_type": "code",
   "execution_count": 121,
   "metadata": {},
   "outputs": [
    {
     "data": {
      "text/html": [
       "<div>\n",
       "<style scoped>\n",
       "    .dataframe tbody tr th:only-of-type {\n",
       "        vertical-align: middle;\n",
       "    }\n",
       "\n",
       "    .dataframe tbody tr th {\n",
       "        vertical-align: top;\n",
       "    }\n",
       "\n",
       "    .dataframe thead th {\n",
       "        text-align: right;\n",
       "    }\n",
       "</style>\n",
       "<table border=\"1\" class=\"dataframe\">\n",
       "  <thead>\n",
       "    <tr style=\"text-align: right;\">\n",
       "      <th></th>\n",
       "      <th>post</th>\n",
       "      <th>proba</th>\n",
       "    </tr>\n",
       "  </thead>\n",
       "  <tbody>\n",
       "    <tr>\n",
       "      <th>484</th>\n",
       "      <td>Chess.com is the fucking worst. So, if you pla...</td>\n",
       "      <td>0.202987</td>\n",
       "    </tr>\n",
       "    <tr>\n",
       "      <th>485</th>\n",
       "      <td>Goddamn it. Why didn't I check for pens? Just ...</td>\n",
       "      <td>0.315852</td>\n",
       "    </tr>\n",
       "    <tr>\n",
       "      <th>486</th>\n",
       "      <td>I still think about this a lot Warm July night...</td>\n",
       "      <td>0.739026</td>\n",
       "    </tr>\n",
       "    <tr>\n",
       "      <th>487</th>\n",
       "      <td>I can do so much for you I know this guy that ...</td>\n",
       "      <td>0.491469</td>\n",
       "    </tr>\n",
       "    <tr>\n",
       "      <th>488</th>\n",
       "      <td>What happened to vaguebooking sad songs? I sti...</td>\n",
       "      <td>0.805781</td>\n",
       "    </tr>\n",
       "  </tbody>\n",
       "</table>\n",
       "</div>"
      ],
      "text/plain": [
       "                                                  post     proba\n",
       "484  Chess.com is the fucking worst. So, if you pla...  0.202987\n",
       "485  Goddamn it. Why didn't I check for pens? Just ...  0.315852\n",
       "486  I still think about this a lot Warm July night...  0.739026\n",
       "487  I can do so much for you I know this guy that ...  0.491469\n",
       "488  What happened to vaguebooking sad songs? I sti...  0.805781"
      ]
     },
     "execution_count": 121,
     "metadata": {},
     "output_type": "execute_result"
    }
   ],
   "source": [
    "pred_df['proba'] = model.predict_proba(X_test_vect)[:,1]\n",
    "pred_df.tail()"
   ]
  },
  {
   "cell_type": "markdown",
   "metadata": {},
   "source": [
    "And compare that to the actual subreddit that the post came from. Now we can filter to see which posts were misclassified as depressed or rant or vice versa."
   ]
  },
  {
   "cell_type": "code",
   "execution_count": 122,
   "metadata": {},
   "outputs": [
    {
     "data": {
      "text/html": [
       "<div>\n",
       "<style scoped>\n",
       "    .dataframe tbody tr th:only-of-type {\n",
       "        vertical-align: middle;\n",
       "    }\n",
       "\n",
       "    .dataframe tbody tr th {\n",
       "        vertical-align: top;\n",
       "    }\n",
       "\n",
       "    .dataframe thead th {\n",
       "        text-align: right;\n",
       "    }\n",
       "</style>\n",
       "<table border=\"1\" class=\"dataframe\">\n",
       "  <thead>\n",
       "    <tr style=\"text-align: right;\">\n",
       "      <th></th>\n",
       "      <th>post</th>\n",
       "      <th>proba</th>\n",
       "      <th>y</th>\n",
       "    </tr>\n",
       "  </thead>\n",
       "  <tbody>\n",
       "    <tr>\n",
       "      <th>484</th>\n",
       "      <td>Chess.com is the fucking worst. So, if you pla...</td>\n",
       "      <td>0.202987</td>\n",
       "      <td>0</td>\n",
       "    </tr>\n",
       "    <tr>\n",
       "      <th>485</th>\n",
       "      <td>Goddamn it. Why didn't I check for pens? Just ...</td>\n",
       "      <td>0.315852</td>\n",
       "      <td>0</td>\n",
       "    </tr>\n",
       "    <tr>\n",
       "      <th>486</th>\n",
       "      <td>I still think about this a lot Warm July night...</td>\n",
       "      <td>0.739026</td>\n",
       "      <td>1</td>\n",
       "    </tr>\n",
       "    <tr>\n",
       "      <th>487</th>\n",
       "      <td>I can do so much for you I know this guy that ...</td>\n",
       "      <td>0.491469</td>\n",
       "      <td>0</td>\n",
       "    </tr>\n",
       "    <tr>\n",
       "      <th>488</th>\n",
       "      <td>What happened to vaguebooking sad songs? I sti...</td>\n",
       "      <td>0.805781</td>\n",
       "      <td>1</td>\n",
       "    </tr>\n",
       "  </tbody>\n",
       "</table>\n",
       "</div>"
      ],
      "text/plain": [
       "                                                  post     proba  y\n",
       "484  Chess.com is the fucking worst. So, if you pla...  0.202987  0\n",
       "485  Goddamn it. Why didn't I check for pens? Just ...  0.315852  0\n",
       "486  I still think about this a lot Warm July night...  0.739026  1\n",
       "487  I can do so much for you I know this guy that ...  0.491469  0\n",
       "488  What happened to vaguebooking sad songs? I sti...  0.805781  1"
      ]
     },
     "execution_count": 122,
     "metadata": {},
     "output_type": "execute_result"
    }
   ],
   "source": [
    "pred_df['y'] = list(y_test)\n",
    "pred_df.tail()"
   ]
  },
  {
   "cell_type": "markdown",
   "metadata": {},
   "source": [
    "Let's put it in a csv just to save it."
   ]
  },
  {
   "cell_type": "code",
   "execution_count": 123,
   "metadata": {},
   "outputs": [],
   "source": [
    "pred_df.to_csv('../data/pred_df.csv', index=True, header=True)"
   ]
  },
  {
   "cell_type": "markdown",
   "metadata": {},
   "source": [
    "The below 16 posts were classified as rants, when they came from the depressed subreddit."
   ]
  },
  {
   "cell_type": "code",
   "execution_count": 124,
   "metadata": {},
   "outputs": [
    {
     "data": {
      "text/plain": [
       "16"
      ]
     },
     "execution_count": 124,
     "metadata": {},
     "output_type": "execute_result"
    }
   ],
   "source": [
    "len(pred_df[(pred_df['proba'] <.5) & (pred_df['y'] == 1)].sort_values('proba'))"
   ]
  },
  {
   "cell_type": "code",
   "execution_count": 125,
   "metadata": {
    "scrolled": true
   },
   "outputs": [
    {
     "data": {
      "text/html": [
       "<div>\n",
       "<style scoped>\n",
       "    .dataframe tbody tr th:only-of-type {\n",
       "        vertical-align: middle;\n",
       "    }\n",
       "\n",
       "    .dataframe tbody tr th {\n",
       "        vertical-align: top;\n",
       "    }\n",
       "\n",
       "    .dataframe thead th {\n",
       "        text-align: right;\n",
       "    }\n",
       "</style>\n",
       "<table border=\"1\" class=\"dataframe\">\n",
       "  <thead>\n",
       "    <tr style=\"text-align: right;\">\n",
       "      <th></th>\n",
       "      <th>post</th>\n",
       "      <th>proba</th>\n",
       "      <th>y</th>\n",
       "    </tr>\n",
       "  </thead>\n",
       "  <tbody>\n",
       "    <tr>\n",
       "      <th>192</th>\n",
       "      <td>I have bipolar 2 and I can’t find any real hel...</td>\n",
       "      <td>0.479003</td>\n",
       "      <td>1</td>\n",
       "    </tr>\n",
       "    <tr>\n",
       "      <th>64</th>\n",
       "      <td>My miracle - should it be of any help. First o...</td>\n",
       "      <td>0.480503</td>\n",
       "      <td>1</td>\n",
       "    </tr>\n",
       "    <tr>\n",
       "      <th>289</th>\n",
       "      <td>Dont you hate it when people try to convince y...</td>\n",
       "      <td>0.481016</td>\n",
       "      <td>1</td>\n",
       "    </tr>\n",
       "    <tr>\n",
       "      <th>137</th>\n",
       "      <td>How can I help a loved one with depression whe...</td>\n",
       "      <td>0.491372</td>\n",
       "      <td>1</td>\n",
       "    </tr>\n",
       "    <tr>\n",
       "      <th>134</th>\n",
       "      <td>4:56am/8.29 25. I’m not sure when I’m supposed...</td>\n",
       "      <td>0.494198</td>\n",
       "      <td>1</td>\n",
       "    </tr>\n",
       "  </tbody>\n",
       "</table>\n",
       "</div>"
      ],
      "text/plain": [
       "                                                  post     proba  y\n",
       "192  I have bipolar 2 and I can’t find any real hel...  0.479003  1\n",
       "64   My miracle - should it be of any help. First o...  0.480503  1\n",
       "289  Dont you hate it when people try to convince y...  0.481016  1\n",
       "137  How can I help a loved one with depression whe...  0.491372  1\n",
       "134  4:56am/8.29 25. I’m not sure when I’m supposed...  0.494198  1"
      ]
     },
     "execution_count": 125,
     "metadata": {},
     "output_type": "execute_result"
    }
   ],
   "source": [
    "pred_df[(pred_df['proba'] <.5) & (pred_df['y'] == 1)].sort_values('proba').tail()"
   ]
  },
  {
   "cell_type": "markdown",
   "metadata": {},
   "source": [
    "The below 41 posts were classified as depressed, when they came from the rant subreddit. Let's save these to a csv so we can explore some of these visually later. That way we can read them to to see if they use the same words that people in the depressed subreddit do."
   ]
  },
  {
   "cell_type": "code",
   "execution_count": 126,
   "metadata": {},
   "outputs": [
    {
     "data": {
      "text/plain": [
       "41"
      ]
     },
     "execution_count": 126,
     "metadata": {},
     "output_type": "execute_result"
    }
   ],
   "source": [
    "len(pred_df[(pred_df['proba'] >.5) & (pred_df['y'] == 0)].sort_values('proba'))"
   ]
  },
  {
   "cell_type": "code",
   "execution_count": 127,
   "metadata": {
    "scrolled": true
   },
   "outputs": [],
   "source": [
    "secretly_depressed = []\n",
    "for post in pred_df[(pred_df['proba'] >.5) & (pred_df['y'] == 0)].sort_values('proba')['post']:\n",
    "    secretly_depressed.append(post)\n",
    "s_d = pd.DataFrame(secretly_depressed, columns=['post'])\n",
    "s_d.to_csv('../data/s_d.csv', index=True, header=True)"
   ]
  },
  {
   "cell_type": "markdown",
   "metadata": {},
   "source": [
    "Let's also look at the ones that the model had trouble  classifying and see why it might have had that trouble."
   ]
  },
  {
   "cell_type": "code",
   "execution_count": 128,
   "metadata": {},
   "outputs": [
    {
     "data": {
      "text/html": [
       "<div>\n",
       "<style scoped>\n",
       "    .dataframe tbody tr th:only-of-type {\n",
       "        vertical-align: middle;\n",
       "    }\n",
       "\n",
       "    .dataframe tbody tr th {\n",
       "        vertical-align: top;\n",
       "    }\n",
       "\n",
       "    .dataframe thead th {\n",
       "        text-align: right;\n",
       "    }\n",
       "</style>\n",
       "<table border=\"1\" class=\"dataframe\">\n",
       "  <thead>\n",
       "    <tr style=\"text-align: right;\">\n",
       "      <th></th>\n",
       "      <th>post</th>\n",
       "      <th>y</th>\n",
       "    </tr>\n",
       "  </thead>\n",
       "  <tbody>\n",
       "    <tr>\n",
       "      <th>0</th>\n",
       "      <td>Sometimes life just sucks. I don’t even know w...</td>\n",
       "      <td>0</td>\n",
       "    </tr>\n",
       "    <tr>\n",
       "      <th>1</th>\n",
       "      <td>And that's when I remembered 1. Plays dota aga...</td>\n",
       "      <td>0</td>\n",
       "    </tr>\n",
       "    <tr>\n",
       "      <th>2</th>\n",
       "      <td>Being disregarded I feel like I don’t mean muc...</td>\n",
       "      <td>0</td>\n",
       "    </tr>\n",
       "    <tr>\n",
       "      <th>3</th>\n",
       "      <td>Nothing makes it harder to respect an adult th...</td>\n",
       "      <td>0</td>\n",
       "    </tr>\n",
       "    <tr>\n",
       "      <th>4</th>\n",
       "      <td>I may have fucked up quite a bit, but It's far...</td>\n",
       "      <td>1</td>\n",
       "    </tr>\n",
       "  </tbody>\n",
       "</table>\n",
       "</div>"
      ],
      "text/plain": [
       "                                                post  y\n",
       "0  Sometimes life just sucks. I don’t even know w...  0\n",
       "1  And that's when I remembered 1. Plays dota aga...  0\n",
       "2  Being disregarded I feel like I don’t mean muc...  0\n",
       "3  Nothing makes it harder to respect an adult th...  0\n",
       "4  I may have fucked up quite a bit, but It's far...  1"
      ]
     },
     "execution_count": 128,
     "metadata": {},
     "output_type": "execute_result"
    }
   ],
   "source": [
    "trouble = []\n",
    "for post in pred_df[(pred_df['proba'] >.45) & (pred_df['proba'] <.55)].sort_values('proba')['post']:\n",
    "    trouble.append(post)\n",
    "t_df = pd.DataFrame(trouble, columns=['post'])\n",
    "\n",
    "middle_y = []\n",
    "for y in pred_df[(pred_df['proba'] >.45) & (pred_df['proba'] <.55)].sort_values('proba')['y']:\n",
    "    middle_y.append(y)\n",
    "t_df['y'] = middle_y\n",
    "\n",
    "t_df.head()"
   ]
  },
  {
   "cell_type": "code",
   "execution_count": 129,
   "metadata": {},
   "outputs": [],
   "source": [
    "t_df.to_csv('../data/t_df.csv', index=True, header=True)"
   ]
  },
  {
   "cell_type": "code",
   "execution_count": 130,
   "metadata": {},
   "outputs": [],
   "source": [
    "middle_y = []\n",
    "for y in pred_df[(pred_df['proba'] >.45) & (pred_df['proba'] <.55)].sort_values('proba')['y']:\n",
    "    middle_y.append(y)\n",
    "t_df['y'] = middle_y"
   ]
  },
  {
   "cell_type": "code",
   "execution_count": 131,
   "metadata": {},
   "outputs": [
    {
     "data": {
      "text/html": [
       "<div>\n",
       "<style scoped>\n",
       "    .dataframe tbody tr th:only-of-type {\n",
       "        vertical-align: middle;\n",
       "    }\n",
       "\n",
       "    .dataframe tbody tr th {\n",
       "        vertical-align: top;\n",
       "    }\n",
       "\n",
       "    .dataframe thead th {\n",
       "        text-align: right;\n",
       "    }\n",
       "</style>\n",
       "<table border=\"1\" class=\"dataframe\">\n",
       "  <thead>\n",
       "    <tr style=\"text-align: right;\">\n",
       "      <th></th>\n",
       "      <th>post</th>\n",
       "      <th>y</th>\n",
       "    </tr>\n",
       "  </thead>\n",
       "  <tbody>\n",
       "    <tr>\n",
       "      <th>0</th>\n",
       "      <td>Sometimes life just sucks. I don’t even know w...</td>\n",
       "      <td>0</td>\n",
       "    </tr>\n",
       "    <tr>\n",
       "      <th>1</th>\n",
       "      <td>And that's when I remembered 1. Plays dota aga...</td>\n",
       "      <td>0</td>\n",
       "    </tr>\n",
       "    <tr>\n",
       "      <th>2</th>\n",
       "      <td>Being disregarded I feel like I don’t mean muc...</td>\n",
       "      <td>0</td>\n",
       "    </tr>\n",
       "    <tr>\n",
       "      <th>3</th>\n",
       "      <td>Nothing makes it harder to respect an adult th...</td>\n",
       "      <td>0</td>\n",
       "    </tr>\n",
       "    <tr>\n",
       "      <th>4</th>\n",
       "      <td>I may have fucked up quite a bit, but It's far...</td>\n",
       "      <td>1</td>\n",
       "    </tr>\n",
       "  </tbody>\n",
       "</table>\n",
       "</div>"
      ],
      "text/plain": [
       "                                                post  y\n",
       "0  Sometimes life just sucks. I don’t even know w...  0\n",
       "1  And that's when I remembered 1. Plays dota aga...  0\n",
       "2  Being disregarded I feel like I don’t mean muc...  0\n",
       "3  Nothing makes it harder to respect an adult th...  0\n",
       "4  I may have fucked up quite a bit, but It's far...  1"
      ]
     },
     "execution_count": 131,
     "metadata": {},
     "output_type": "execute_result"
    }
   ],
   "source": [
    "t_df.head()"
   ]
  },
  {
   "cell_type": "markdown",
   "metadata": {},
   "source": [
    "# Executive Summary\n",
    "---"
   ]
  },
  {
   "cell_type": "markdown",
   "metadata": {},
   "source": [
    "Using some statistical tools such as TF-IDF Vectorizer and a Multinomial Naive Bayes model, as well as some API scraping tools, we are able to retrieve posts from two subreddits on Reddit.com and analyze them to build a model that can classify posts into the subreddits based on their semantic content.\n",
    "\n",
    "\n",
    "I selected the r/rant and r/depression subreddits. Certain studies show that there is a link between anger and depression (see: https://psychcentral.com/blog/why-so-angry-irritable-it-might-be-depression/), so I thought it was useful to see if our model classified a post that is actually from r/rant as being from r/depression instead, which would indicate that the person who is \"angry\" may be exhibiting signs of depression.\n",
    "\n",
    "\n",
    "Because of this, my goal was to minimize my false negatives rate, thereby maximizing my Recall rate (true positives divided by true positives plus false negatives). False negatives means my model thought the post was just a rant, but actually was depressed. If we are minimizing those situations, then it means my model is good at identifying possible depression.\n",
    "\n",
    "\n",
    "False positives (situations where my model saw depression but the post was actually from rant) are helpful in my model because those are the posts that come from rant that we should look more deeply into to understand why the model saw signs of depression.\n",
    "\n",
    "\n",
    "In terms of next steps, I would look further into modeling techniques which return common context around our top features, then add those n-grams or ‘phrases’ into vectorized corpus so that those n-grams can be analyzed and weighted.\n",
    "\n",
    "\n",
    "A real world implementation of this analysis could be to add a filter on social media which alerts loved ones if someone's posts are exhibiting signs of depression. The user would be asked for authorization of course, and may provide it if he or she is concerned about his or her overall mental health and wellbeing."
   ]
  }
 ],
 "metadata": {
  "anaconda-cloud": {},
  "kernelspec": {
   "display_name": "Python 3",
   "language": "python",
   "name": "python3"
  },
  "language_info": {
   "codemirror_mode": {
    "name": "ipython",
    "version": 3
   },
   "file_extension": ".py",
   "mimetype": "text/x-python",
   "name": "python",
   "nbconvert_exporter": "python",
   "pygments_lexer": "ipython3",
   "version": "3.6.5"
  },
  "varInspector": {
   "cols": {
    "lenName": 16,
    "lenType": 16,
    "lenVar": 40
   },
   "kernels_config": {
    "python": {
     "delete_cmd_postfix": "",
     "delete_cmd_prefix": "del ",
     "library": "var_list.py",
     "varRefreshCmd": "print(var_dic_list())"
    },
    "r": {
     "delete_cmd_postfix": ") ",
     "delete_cmd_prefix": "rm(",
     "library": "var_list.r",
     "varRefreshCmd": "cat(var_dic_list()) "
    }
   },
   "types_to_exclude": [
    "module",
    "function",
    "builtin_function_or_method",
    "instance",
    "_Feature"
   ],
   "window_display": false
  }
 },
 "nbformat": 4,
 "nbformat_minor": 1
}

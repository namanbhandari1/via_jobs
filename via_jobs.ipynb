{
 "cells": [
  {
   "cell_type": "markdown",
   "metadata": {},
   "source": [
    "# Let's search through Via jobs using Python and Pandas!\n",
    "\n",
    "There are a lot of jobs available on Via's job page on [greenhouse.io](https://boards.greenhouse.io/via?gh_src=5109dfc22). But, I'm only interested in ones that consider Python or SQL as a skill (since I just completed my course at General Assembly and want to make use of my Python / ML skills!).\n",
    "\n",
    "So, instead of clicking manually on each link, I thought that instead I could scrape the webpage and programmatically search through the posts to find exactly what I want."
   ]
  },
  {
   "cell_type": "markdown",
   "metadata": {},
   "source": [
    "### Scraping with BeautifulSoup"
   ]
  },
  {
   "cell_type": "markdown",
   "metadata": {},
   "source": [
    "I'm going to use BeautifulSoup to scrape Via's job page:"
   ]
  },
  {
   "cell_type": "code",
   "execution_count": 1,
   "metadata": {},
   "outputs": [],
   "source": [
    "import pandas as pd\n",
    "import numpy as np\n",
    "import matplotlib.pyplot as plt\n",
    "import requests\n",
    "from bs4 import BeautifulSoup\n",
    "import re"
   ]
  },
  {
   "cell_type": "code",
   "execution_count": 3,
   "metadata": {},
   "outputs": [
    {
     "data": {
      "text/plain": [
       "<Response [200]>"
      ]
     },
     "execution_count": 3,
     "metadata": {},
     "output_type": "execute_result"
    }
   ],
   "source": [
    "url = 'https://boards.greenhouse.io/via?gh_src=5109dfc22'\n",
    "res = requests.get(url)\n",
    "soup = BeautifulSoup(res.content, 'lxml')"
   ]
  },
  {
   "cell_type": "markdown",
   "metadata": {},
   "source": [
    "Below, I'm going to create a list of links of all the jobs available:"
   ]
  },
  {
   "cell_type": "code",
   "execution_count": 24,
   "metadata": {},
   "outputs": [],
   "source": [
    "links = []\n",
    "for link in soup.find_all(\"a\"):\n",
    "    links.append('https://boards.greenhouse.io'+link.get(\"href\"))"
   ]
  },
  {
   "cell_type": "markdown",
   "metadata": {},
   "source": [
    "Let's examine the first five links:"
   ]
  },
  {
   "cell_type": "code",
   "execution_count": 29,
   "metadata": {
    "scrolled": true
   },
   "outputs": [
    {
     "data": {
      "text/plain": [
       "['https://boards.greenhouse.io/via/jobs/4133927002',\n",
       " 'https://boards.greenhouse.io/via/jobs/4113020002',\n",
       " 'https://boards.greenhouse.io/via/jobs/4113029002',\n",
       " 'https://boards.greenhouse.io/via/jobs/4113073002',\n",
       " 'https://boards.greenhouse.io/via/jobs/4113035002']"
      ]
     },
     "execution_count": 29,
     "metadata": {},
     "output_type": "execute_result"
    }
   ],
   "source": [
    "links[0:5]"
   ]
  },
  {
   "cell_type": "markdown",
   "metadata": {},
   "source": [
    "Let's examine the last five links:"
   ]
  },
  {
   "cell_type": "code",
   "execution_count": 227,
   "metadata": {
    "scrolled": true
   },
   "outputs": [
    {
     "data": {
      "text/plain": [
       "['https://boards.greenhouse.iohttp://www.greenhouse.io/privacy-policy',\n",
       " 'https://boards.greenhouse.iohttp://www.greenhouse.io/',\n",
       " 'https://boards.greenhouse.io/via/jobs/4113895002',\n",
       " 'https://boards.greenhouse.io/via/jobs/4113896002',\n",
       " 'https://boards.greenhouse.io/via/jobs/4127284002']"
      ]
     },
     "execution_count": 227,
     "metadata": {},
     "output_type": "execute_result"
    }
   ],
   "source": [
    "links[::-1][0:5]"
   ]
  },
  {
   "cell_type": "markdown",
   "metadata": {},
   "source": [
    "Got two junk links. Let's drop those."
   ]
  },
  {
   "cell_type": "code",
   "execution_count": 228,
   "metadata": {},
   "outputs": [],
   "source": [
    "del links[-2:]"
   ]
  },
  {
   "cell_type": "code",
   "execution_count": 245,
   "metadata": {},
   "outputs": [
    {
     "data": {
      "text/plain": [
       "166"
      ]
     },
     "execution_count": 245,
     "metadata": {},
     "output_type": "execute_result"
    }
   ],
   "source": [
    "len(links)"
   ]
  },
  {
   "cell_type": "markdown",
   "metadata": {},
   "source": [
    "Now let's request the job title, overview, responsibilities, and qualifications for each job:"
   ]
  },
  {
   "cell_type": "code",
   "execution_count": 240,
   "metadata": {},
   "outputs": [],
   "source": [
    "import time"
   ]
  },
  {
   "cell_type": "code",
   "execution_count": null,
   "metadata": {},
   "outputs": [],
   "source": [
    "jobs = []\n",
    "locations = []\n",
    "contents = []\n",
    "for link in links:\n",
    "    res = requests.get(link, headers = {'User-agent': 'Naman'})\n",
    "    soup = BeautifulSoup(res.content, 'lxml')\n",
    "    jobs.append(soup.find('h1', {'class' : 'app-title'}).text)\n",
    "    locations.append(soup.find('div', {'class' : 'location'}).text)\n",
    "    contents.append(soup.find('div', {'id' : 'content'}).text)\n",
    "    time.sleep(3)"
   ]
  },
  {
   "cell_type": "markdown",
   "metadata": {},
   "source": [
    "### Insert into DataFrame"
   ]
  },
  {
   "cell_type": "code",
   "execution_count": null,
   "metadata": {},
   "outputs": [],
   "source": [
    "df = pd.DataFrame(columns=['app-title', 'location', 'content'])"
   ]
  },
  {
   "cell_type": "code",
   "execution_count": null,
   "metadata": {},
   "outputs": [],
   "source": [
    "df['app-title'] = jobs\n",
    "df['location'] = locations\n",
    "df['content'] = contents"
   ]
  },
  {
   "cell_type": "code",
   "execution_count": null,
   "metadata": {},
   "outputs": [],
   "source": [
    "df.head()"
   ]
  },
  {
   "cell_type": "code",
   "execution_count": null,
   "metadata": {},
   "outputs": [],
   "source": [
    "len(df.content)"
   ]
  },
  {
   "cell_type": "markdown",
   "metadata": {},
   "source": [
    "Let's save this to a csv in case we need the information in the future."
   ]
  },
  {
   "cell_type": "code",
   "execution_count": 137,
   "metadata": {},
   "outputs": [],
   "source": [
    "df.to_csv('via_jobs.csv')"
   ]
  },
  {
   "cell_type": "markdown",
   "metadata": {},
   "source": [
    "It seems there is a general structure to each job post. There are 3 main categories in each post:\n",
    "\n",
    "1. Job Overview\n",
    "2. Responsibilities and Duties\n",
    "3. Qualifications\n",
    "\n",
    "Let's see if we can get each of these sections into its own column in the dataframe. First, let's homogenize the content column by removing the \"about Via\" section seen the the beginning of some of the cells:"
   ]
  },
  {
   "cell_type": "markdown",
   "metadata": {},
   "source": [
    "Let's load the CSV now, and filter by jobs only in NY:"
   ]
  },
  {
   "cell_type": "code",
   "execution_count": 2,
   "metadata": {},
   "outputs": [],
   "source": [
    "df = pd.read_csv('./via_jobs.csv')"
   ]
  },
  {
   "cell_type": "code",
   "execution_count": 3,
   "metadata": {},
   "outputs": [],
   "source": [
    "df.drop('Unnamed: 0', inplace=True, axis=1)"
   ]
  },
  {
   "cell_type": "code",
   "execution_count": 4,
   "metadata": {},
   "outputs": [],
   "source": [
    "df = df[df['location'].str.contains(\"New York\")]"
   ]
  },
  {
   "cell_type": "code",
   "execution_count": 5,
   "metadata": {},
   "outputs": [
    {
     "data": {
      "text/plain": [
       "array(['\\n      New York (Open to Remote)\\n    ',\n",
       "       '\\n      New York\\n    ',\n",
       "       '\\n      Amsterdam; Berlin; Chicago; London; New York; Washington, D.C.\\n    '],\n",
       "      dtype=object)"
      ]
     },
     "execution_count": 5,
     "metadata": {},
     "output_type": "execute_result"
    }
   ],
   "source": [
    "df.location.unique()"
   ]
  },
  {
   "cell_type": "code",
   "execution_count": 6,
   "metadata": {},
   "outputs": [
    {
     "data": {
      "text/plain": [
       "73"
      ]
     },
     "execution_count": 6,
     "metadata": {},
     "output_type": "execute_result"
    }
   ],
   "source": [
    "len(df.content)"
   ]
  },
  {
   "cell_type": "markdown",
   "metadata": {},
   "source": [
    "Great, now let's look at the resulting df:"
   ]
  },
  {
   "cell_type": "code",
   "execution_count": 7,
   "metadata": {
    "scrolled": true
   },
   "outputs": [
    {
     "data": {
      "text/html": [
       "<div>\n",
       "<style scoped>\n",
       "    .dataframe tbody tr th:only-of-type {\n",
       "        vertical-align: middle;\n",
       "    }\n",
       "\n",
       "    .dataframe tbody tr th {\n",
       "        vertical-align: top;\n",
       "    }\n",
       "\n",
       "    .dataframe thead th {\n",
       "        text-align: right;\n",
       "    }\n",
       "</style>\n",
       "<table border=\"1\" class=\"dataframe\">\n",
       "  <thead>\n",
       "    <tr style=\"text-align: right;\">\n",
       "      <th></th>\n",
       "      <th>app-title</th>\n",
       "      <th>location</th>\n",
       "      <th>content</th>\n",
       "    </tr>\n",
       "  </thead>\n",
       "  <tbody>\n",
       "    <tr>\n",
       "      <th>0</th>\n",
       "      <td>Community Engagement Principal</td>\n",
       "      <td>\\n      New York (Open to Remote)\\n</td>\n",
       "      <td>\\nJob Overview\\nAs Community Engagement Princi...</td>\n",
       "    </tr>\n",
       "    <tr>\n",
       "      <th>1</th>\n",
       "      <td>Contract Proposal Writer</td>\n",
       "      <td>\\n      New York\\n</td>\n",
       "      <td>\\nJob Overview\\nVia is looking for experienced...</td>\n",
       "    </tr>\n",
       "    <tr>\n",
       "      <th>2</th>\n",
       "      <td>Infrastructure Innovation Strategist</td>\n",
       "      <td>\\n      New York\\n</td>\n",
       "      <td>\\nVia is re-engineering public transit, from a...</td>\n",
       "    </tr>\n",
       "    <tr>\n",
       "      <th>4</th>\n",
       "      <td>Transportation Finance Strategist</td>\n",
       "      <td>\\n      New York\\n</td>\n",
       "      <td>\\nVia is re-engineering public transit, from a...</td>\n",
       "    </tr>\n",
       "    <tr>\n",
       "      <th>5</th>\n",
       "      <td>Urban Mobility Associate</td>\n",
       "      <td>\\n      New York\\n</td>\n",
       "      <td>\\nVia is re-engineering public transit, from a...</td>\n",
       "    </tr>\n",
       "  </tbody>\n",
       "</table>\n",
       "</div>"
      ],
      "text/plain": [
       "                              app-title  \\\n",
       "0       Community Engagement Principal    \n",
       "1              Contract Proposal Writer   \n",
       "2  Infrastructure Innovation Strategist   \n",
       "4     Transportation Finance Strategist   \n",
       "5              Urban Mobility Associate   \n",
       "\n",
       "                                  location  \\\n",
       "0  \\n      New York (Open to Remote)\\n       \n",
       "1                   \\n      New York\\n       \n",
       "2                   \\n      New York\\n       \n",
       "4                   \\n      New York\\n       \n",
       "5                   \\n      New York\\n       \n",
       "\n",
       "                                             content  \n",
       "0  \\nJob Overview\\nAs Community Engagement Princi...  \n",
       "1  \\nJob Overview\\nVia is looking for experienced...  \n",
       "2  \\nVia is re-engineering public transit, from a...  \n",
       "4  \\nVia is re-engineering public transit, from a...  \n",
       "5  \\nVia is re-engineering public transit, from a...  "
      ]
     },
     "execution_count": 7,
     "metadata": {},
     "output_type": "execute_result"
    }
   ],
   "source": [
    "df.head()"
   ]
  },
  {
   "cell_type": "markdown",
   "metadata": {},
   "source": [
    "Some of the cells in content have text beginning with \"\\nVia is re-engineering public transit, from\"... this is just an overview on Via generally, not specific to each job post, so I'll remove these, and do some other general clean-up:"
   ]
  },
  {
   "cell_type": "code",
   "execution_count": 8,
   "metadata": {},
   "outputs": [],
   "source": [
    "df['content_1'] = df['content'].str.replace(r'\\nVia is re-engineering.*\\n', r'')\n",
    "df['content_1'] = df['content_1'].str.replace(r'\\nJob Overview', r'Job Overview')\n",
    "df['content_1'] = df['content_1'].str.replace(r'Job Overview', r'')\n",
    "df['content_1'] = df['content_1'].str.replace(r'Summary:', r'')\n",
    "df['content_1'] = df['content_1'].str.replace(r'\\n', r'', 1)"
   ]
  },
  {
   "cell_type": "markdown",
   "metadata": {},
   "source": [
    "Now that everything is cleaned up, let's split up the main sections into their own columns:"
   ]
  },
  {
   "cell_type": "code",
   "execution_count": 9,
   "metadata": {},
   "outputs": [],
   "source": [
    "df['description'] = df.content_1.str.split('Responsibilities and Duties').str.get(0)"
   ]
  },
  {
   "cell_type": "code",
   "execution_count": 10,
   "metadata": {},
   "outputs": [],
   "source": [
    "df['responsibilities'] = df.content_1.str.split('Responsibilities and Duties').str.get(1)"
   ]
  },
  {
   "cell_type": "code",
   "execution_count": 11,
   "metadata": {},
   "outputs": [],
   "source": [
    "df['qualifications'] = df.content_1.str.split('Qualifications').str.get(1)"
   ]
  },
  {
   "cell_type": "markdown",
   "metadata": {},
   "source": [
    "And check for errors:\n",
    "\n",
    "It looks like some of the jobs didn't have the terms \"Responsibilities and Duties\" and \"Qualifications\", and it looks like those were limited to internships, recruiters, and an executive assistant. These jobs are out of scope for my search, so I won't worry about these as a result."
   ]
  },
  {
   "cell_type": "code",
   "execution_count": 12,
   "metadata": {
    "scrolled": true
   },
   "outputs": [
    {
     "data": {
      "text/html": [
       "<div>\n",
       "<style scoped>\n",
       "    .dataframe tbody tr th:only-of-type {\n",
       "        vertical-align: middle;\n",
       "    }\n",
       "\n",
       "    .dataframe tbody tr th {\n",
       "        vertical-align: top;\n",
       "    }\n",
       "\n",
       "    .dataframe thead th {\n",
       "        text-align: right;\n",
       "    }\n",
       "</style>\n",
       "<table border=\"1\" class=\"dataframe\">\n",
       "  <thead>\n",
       "    <tr style=\"text-align: right;\">\n",
       "      <th></th>\n",
       "      <th>app-title</th>\n",
       "      <th>location</th>\n",
       "      <th>content</th>\n",
       "      <th>content_1</th>\n",
       "      <th>description</th>\n",
       "      <th>responsibilities</th>\n",
       "      <th>qualifications</th>\n",
       "    </tr>\n",
       "  </thead>\n",
       "  <tbody>\n",
       "    <tr>\n",
       "      <th>36</th>\n",
       "      <td>Executive Assistant</td>\n",
       "      <td>\\n      New York\\n</td>\n",
       "      <td>\\nVia is re-engineering public transit, from a...</td>\n",
       "      <td>As an Executive Assistant, you will be reliabl...</td>\n",
       "      <td>As an Executive Assistant, you will be reliabl...</td>\n",
       "      <td>NaN</td>\n",
       "      <td>:\\n\\nMust have 2-3 years of relevant experienc...</td>\n",
       "    </tr>\n",
       "    <tr>\n",
       "      <th>39</th>\n",
       "      <td>Junior Recruiter</td>\n",
       "      <td>\\n      New York\\n</td>\n",
       "      <td>\\nVia is re-engineering public transit, from a...</td>\n",
       "      <td>As a Junior Recruiter, you will find and attra...</td>\n",
       "      <td>As a Junior Recruiter, you will find and attra...</td>\n",
       "      <td>NaN</td>\n",
       "      <td>:\\n\\n2+ years’ experience recruiting\\nReliable...</td>\n",
       "    </tr>\n",
       "    <tr>\n",
       "      <th>40</th>\n",
       "      <td>Recruiting Coordinator</td>\n",
       "      <td>\\n      New York\\n</td>\n",
       "      <td>\\nJob Overview\\nAs Recruiting Coordinator, you...</td>\n",
       "      <td>As Recruiting Coordinator, you will serve as p...</td>\n",
       "      <td>As Recruiting Coordinator, you will serve as p...</td>\n",
       "      <td>NaN</td>\n",
       "      <td>NaN</td>\n",
       "    </tr>\n",
       "    <tr>\n",
       "      <th>41</th>\n",
       "      <td>Senior Recruiter</td>\n",
       "      <td>\\n      New York\\n</td>\n",
       "      <td>\\nVia is re-engineering public transit, from a...</td>\n",
       "      <td>As a Senior Recruiter, you will find and attra...</td>\n",
       "      <td>As a Senior Recruiter, you will find and attra...</td>\n",
       "      <td>NaN</td>\n",
       "      <td>:\\n\\n5+ years’ recruitment experience\\nReliabl...</td>\n",
       "    </tr>\n",
       "    <tr>\n",
       "      <th>45</th>\n",
       "      <td>Summer MBA Intern</td>\n",
       "      <td>\\n      Amsterdam; Berlin; Chicago; London; Ne...</td>\n",
       "      <td>\\nVia and ViaVan are looking for exceptional i...</td>\n",
       "      <td>Via and ViaVan are looking for exceptional ind...</td>\n",
       "      <td>Via and ViaVan are looking for exceptional ind...</td>\n",
       "      <td>NaN</td>\n",
       "      <td>NaN</td>\n",
       "    </tr>\n",
       "    <tr>\n",
       "      <th>46</th>\n",
       "      <td>Summer Undergraduate Intern</td>\n",
       "      <td>\\n      Amsterdam; Berlin; Chicago; London; Ne...</td>\n",
       "      <td>\\nVia and ViaVan are looking for exceptional i...</td>\n",
       "      <td>Via and ViaVan are looking for exceptional ind...</td>\n",
       "      <td>Via and ViaVan are looking for exceptional ind...</td>\n",
       "      <td>NaN</td>\n",
       "      <td>NaN</td>\n",
       "    </tr>\n",
       "  </tbody>\n",
       "</table>\n",
       "</div>"
      ],
      "text/plain": [
       "                      app-title  \\\n",
       "36          Executive Assistant   \n",
       "39             Junior Recruiter   \n",
       "40       Recruiting Coordinator   \n",
       "41             Senior Recruiter   \n",
       "45            Summer MBA Intern   \n",
       "46  Summer Undergraduate Intern   \n",
       "\n",
       "                                             location  \\\n",
       "36                             \\n      New York\\n       \n",
       "39                             \\n      New York\\n       \n",
       "40                             \\n      New York\\n       \n",
       "41                             \\n      New York\\n       \n",
       "45  \\n      Amsterdam; Berlin; Chicago; London; Ne...   \n",
       "46  \\n      Amsterdam; Berlin; Chicago; London; Ne...   \n",
       "\n",
       "                                              content  \\\n",
       "36  \\nVia is re-engineering public transit, from a...   \n",
       "39  \\nVia is re-engineering public transit, from a...   \n",
       "40  \\nJob Overview\\nAs Recruiting Coordinator, you...   \n",
       "41  \\nVia is re-engineering public transit, from a...   \n",
       "45  \\nVia and ViaVan are looking for exceptional i...   \n",
       "46  \\nVia and ViaVan are looking for exceptional i...   \n",
       "\n",
       "                                            content_1  \\\n",
       "36  As an Executive Assistant, you will be reliabl...   \n",
       "39  As a Junior Recruiter, you will find and attra...   \n",
       "40  As Recruiting Coordinator, you will serve as p...   \n",
       "41  As a Senior Recruiter, you will find and attra...   \n",
       "45  Via and ViaVan are looking for exceptional ind...   \n",
       "46  Via and ViaVan are looking for exceptional ind...   \n",
       "\n",
       "                                          description responsibilities  \\\n",
       "36  As an Executive Assistant, you will be reliabl...              NaN   \n",
       "39  As a Junior Recruiter, you will find and attra...              NaN   \n",
       "40  As Recruiting Coordinator, you will serve as p...              NaN   \n",
       "41  As a Senior Recruiter, you will find and attra...              NaN   \n",
       "45  Via and ViaVan are looking for exceptional ind...              NaN   \n",
       "46  Via and ViaVan are looking for exceptional ind...              NaN   \n",
       "\n",
       "                                       qualifications  \n",
       "36  :\\n\\nMust have 2-3 years of relevant experienc...  \n",
       "39  :\\n\\n2+ years’ experience recruiting\\nReliable...  \n",
       "40                                                NaN  \n",
       "41  :\\n\\n5+ years’ recruitment experience\\nReliabl...  \n",
       "45                                                NaN  \n",
       "46                                                NaN  "
      ]
     },
     "execution_count": 12,
     "metadata": {},
     "output_type": "execute_result"
    }
   ],
   "source": [
    "df[df.isnull().any(axis=1)]"
   ]
  },
  {
   "cell_type": "code",
   "execution_count": 13,
   "metadata": {},
   "outputs": [],
   "source": [
    "df.dropna(inplace=True)"
   ]
  },
  {
   "cell_type": "markdown",
   "metadata": {},
   "source": [
    "### Search for keywords"
   ]
  },
  {
   "cell_type": "markdown",
   "metadata": {},
   "source": [
    "I want to filter by positions that have one of the following terms:\n",
    "- Python\n",
    "- Pandas\n",
    "- SQL\n",
    "- Machine Learning\n",
    "- Modeling\n",
    "- Data\n",
    "\n",
    "Let's try it:"
   ]
  },
  {
   "cell_type": "code",
   "execution_count": 14,
   "metadata": {},
   "outputs": [],
   "source": [
    "df.drop('content_1', axis=1, inplace=True)"
   ]
  },
  {
   "cell_type": "code",
   "execution_count": 46,
   "metadata": {},
   "outputs": [],
   "source": [
    "searchfor = [r'[pP]ython', r'[pP]andas', 'SQL', r'[mM]achine [lL]earning',\n",
    "             r'[iI]nvestment [bB]anking', r'[pP]rivate [eE]quity']"
   ]
  },
  {
   "cell_type": "code",
   "execution_count": 16,
   "metadata": {},
   "outputs": [],
   "source": [
    "df = df[df['content'].str.contains('|'.join(searchfor))].drop([8, 47, 50, 78])"
   ]
  },
  {
   "cell_type": "code",
   "execution_count": 17,
   "metadata": {},
   "outputs": [
    {
     "data": {
      "text/plain": [
       "18"
      ]
     },
     "execution_count": 17,
     "metadata": {},
     "output_type": "execute_result"
    }
   ],
   "source": [
    "len(df)"
   ]
  },
  {
   "cell_type": "code",
   "execution_count": 18,
   "metadata": {},
   "outputs": [
    {
     "data": {
      "text/html": [
       "<div>\n",
       "<style scoped>\n",
       "    .dataframe tbody tr th:only-of-type {\n",
       "        vertical-align: middle;\n",
       "    }\n",
       "\n",
       "    .dataframe tbody tr th {\n",
       "        vertical-align: top;\n",
       "    }\n",
       "\n",
       "    .dataframe thead th {\n",
       "        text-align: right;\n",
       "    }\n",
       "</style>\n",
       "<table border=\"1\" class=\"dataframe\">\n",
       "  <thead>\n",
       "    <tr style=\"text-align: right;\">\n",
       "      <th></th>\n",
       "      <th>app-title</th>\n",
       "      <th>location</th>\n",
       "      <th>content</th>\n",
       "      <th>description</th>\n",
       "      <th>responsibilities</th>\n",
       "      <th>qualifications</th>\n",
       "    </tr>\n",
       "  </thead>\n",
       "  <tbody>\n",
       "    <tr>\n",
       "      <th>7</th>\n",
       "      <td>Business Analytics Associate</td>\n",
       "      <td>\\n      New York\\n</td>\n",
       "      <td>\\nJob Overview\\nAs Business Analytics Associat...</td>\n",
       "      <td>As Business Analytics Associate, you’ll analyz...</td>\n",
       "      <td>\\n\\nDevelop new measurement methodologies and ...</td>\n",
       "      <td>\\n\\nObsessed with data, very strong quantitati...</td>\n",
       "    </tr>\n",
       "    <tr>\n",
       "      <th>9</th>\n",
       "      <td>Data Scientist</td>\n",
       "      <td>\\n      New York\\n</td>\n",
       "      <td>\\nJob Overview\\nAs Data Scientist, you’ll util...</td>\n",
       "      <td>As Data Scientist, you’ll utilize advanced qua...</td>\n",
       "      <td>\\n\\nAdeptly interpret and utilize mass quantit...</td>\n",
       "      <td>\\n\\nObsessed with data; analytical and rigorou...</td>\n",
       "    </tr>\n",
       "    <tr>\n",
       "      <th>79</th>\n",
       "      <td>Growth Analytics Associate</td>\n",
       "      <td>\\n      New York\\n</td>\n",
       "      <td>\\nJob Overview\\nAs Growth Analytics Associate,...</td>\n",
       "      <td>As Growth Analytics Associate, you will define...</td>\n",
       "      <td>\\n\\nImprove the user experience through iterat...</td>\n",
       "      <td>\\n\\nObsessed with the user experience, constan...</td>\n",
       "    </tr>\n",
       "    <tr>\n",
       "      <th>80</th>\n",
       "      <td>Product Growth Associate</td>\n",
       "      <td>\\n      New York\\n</td>\n",
       "      <td>\\nJob Overview\\nAs a Product Growth Associate,...</td>\n",
       "      <td>As a Product Growth Associate, you will be of ...</td>\n",
       "      <td>\\n\\nCoordinate global user-centric growth expe...</td>\n",
       "      <td>\\n\\nConsumer and customer centric: put the cus...</td>\n",
       "    </tr>\n",
       "    <tr>\n",
       "      <th>81</th>\n",
       "      <td>Product Growth Principal</td>\n",
       "      <td>\\n      New York\\n</td>\n",
       "      <td>\\nVia is re-engineering public transit, from a...</td>\n",
       "      <td>As a Product Growth Principal, you will be of ...</td>\n",
       "      <td>\\n\\nOwn core growth KPIs (activation, conversi...</td>\n",
       "      <td>\\n\\nCustomer-obsessed and customer centric: pu...</td>\n",
       "    </tr>\n",
       "  </tbody>\n",
       "</table>\n",
       "</div>"
      ],
      "text/plain": [
       "                       app-title                location  \\\n",
       "7   Business Analytics Associate  \\n      New York\\n       \n",
       "9                 Data Scientist  \\n      New York\\n       \n",
       "79    Growth Analytics Associate  \\n      New York\\n       \n",
       "80     Product Growth Associate   \\n      New York\\n       \n",
       "81     Product Growth Principal   \\n      New York\\n       \n",
       "\n",
       "                                              content  \\\n",
       "7   \\nJob Overview\\nAs Business Analytics Associat...   \n",
       "9   \\nJob Overview\\nAs Data Scientist, you’ll util...   \n",
       "79  \\nJob Overview\\nAs Growth Analytics Associate,...   \n",
       "80  \\nJob Overview\\nAs a Product Growth Associate,...   \n",
       "81  \\nVia is re-engineering public transit, from a...   \n",
       "\n",
       "                                          description  \\\n",
       "7   As Business Analytics Associate, you’ll analyz...   \n",
       "9   As Data Scientist, you’ll utilize advanced qua...   \n",
       "79  As Growth Analytics Associate, you will define...   \n",
       "80  As a Product Growth Associate, you will be of ...   \n",
       "81  As a Product Growth Principal, you will be of ...   \n",
       "\n",
       "                                     responsibilities  \\\n",
       "7   \\n\\nDevelop new measurement methodologies and ...   \n",
       "9   \\n\\nAdeptly interpret and utilize mass quantit...   \n",
       "79  \\n\\nImprove the user experience through iterat...   \n",
       "80  \\n\\nCoordinate global user-centric growth expe...   \n",
       "81  \\n\\nOwn core growth KPIs (activation, conversi...   \n",
       "\n",
       "                                       qualifications  \n",
       "7   \\n\\nObsessed with data, very strong quantitati...  \n",
       "9   \\n\\nObsessed with data; analytical and rigorou...  \n",
       "79  \\n\\nObsessed with the user experience, constan...  \n",
       "80  \\n\\nConsumer and customer centric: put the cus...  \n",
       "81  \\n\\nCustomer-obsessed and customer centric: pu...  "
      ]
     },
     "execution_count": 18,
     "metadata": {},
     "output_type": "execute_result"
    }
   ],
   "source": [
    "df[df['content'].str.contains(searchfor[0])].head()"
   ]
  },
  {
   "cell_type": "markdown",
   "metadata": {},
   "source": [
    "### Plot it!"
   ]
  },
  {
   "cell_type": "code",
   "execution_count": 66,
   "metadata": {},
   "outputs": [],
   "source": [
    "def keyword_check(num):\n",
    "    # Plot the features\n",
    "    x = list(df['app-title'])\n",
    "    coverage = [1 if x[i] in df[df['content'].str.contains(searchfor[num])]['app-title'].values \n",
    "                else 0.01 for i in range(len(x))]\n",
    "\n",
    "    x_pos = [i for i, _ in enumerate(x)]\n",
    "\n",
    "    plt.figure(figsize=(8,7));\n",
    "\n",
    "    plt.barh(x_pos, coverage, color='green')\n",
    "    plt.ylabel(\"Job Name\", fontsize=12)\n",
    "    plt.yticks(fontsize=12)\n",
    "    plt.title(searchfor[num])\n",
    "    plt.gca().invert_yaxis()\n",
    "\n",
    "    plt.yticks(x_pos, x)\n",
    "    plt.xticks(np.arange(2), ('Not Present', 'Present'))\n",
    "\n",
    "    plt.show()"
   ]
  },
  {
   "cell_type": "code",
   "execution_count": 76,
   "metadata": {},
   "outputs": [
    {
     "data": {
      "image/png": "[encoded data removed]",
      "text/plain": [
       "<Figure size 576x504 with 1 Axes>"
      ]
     },
     "metadata": {},
     "output_type": "display_data"
    }
   ],
   "source": [
    "keyword_check(0)"
   ]
  },
  {
   "cell_type": "markdown",
   "metadata": {},
   "source": [
    "### Viewing each job\n",
    "\n",
    "From above, I know I have 18 jobs in the resulting list. In the cell below, I've defined a simple function that I can use to view each of the 18 jobs to see if it's a fit for me:"
   ]
  },
  {
   "cell_type": "code",
   "execution_count": 21,
   "metadata": {},
   "outputs": [],
   "source": [
    "def view_job(job_num):\n",
    "    for n in [0,1,3,4]:\n",
    "        print(df.iloc[job_num][n])"
   ]
  },
  {
   "cell_type": "code",
   "execution_count": 59,
   "metadata": {},
   "outputs": [
    {
     "name": "stdout",
     "output_type": "stream",
     "text": [
      "Data Scientist\n",
      "\n",
      "      New York\n",
      "    \n",
      "As Data Scientist, you’ll utilize advanced quantitative & statistical analysis techniques to drive business model innovation for Via, and work closely with our senior management to help drive decisions.\n",
      "\n",
      "\n",
      "\n",
      "Adeptly interpret and utilize mass quantities of data to generate innovative hypotheses & insights\n",
      "Use sophisticated statistical methods to solve problems, leveraging up-to-date academic research and tools\n",
      "Quantitatively test hypotheses about customer and driver behavior using large sets of proprietary data; leverage results to increase conversion and retention at every touch point\n",
      "Design and implement novel experiments to better understand current operation as well as expansion to new markets\n",
      "\n",
      "Qualifications\n",
      "\n",
      "Obsessed with data; analytical and rigorous, with a thorough understanding of statistics and machine learning\n",
      "Extraordinary communicator with demonstrated writing and editing skills.\n",
      "Passionate about elegant visualization; you understand the importance of graphic techniques in communicating a quantitative idea effectively\n",
      "Deep understanding of business concepts within strategy, operations, and marketing\n",
      "Have a Masters Degree or PhD from a top-tier university (statistics, machine learning, physics, math, systems biology, or highly quantitative fields in social sciences), including 2+ years of graduate-level research experience (or the equivalent)\n",
      "Have experience with predictive modeling and statistical analysis techniques in a business environment\n",
      "Mastery in some or all of the following: SQL, Python, R, and Tableau\n",
      "\n",
      " Via offers above market compensation packages and benefits, including equity, health insurance, and relocation assistance.\n",
      " Via is an equal opportunity employer.\n",
      "\n"
     ]
    }
   ],
   "source": [
    "view_job(3)"
   ]
  },
  {
   "cell_type": "markdown",
   "metadata": {},
   "source": [
    "### Final picks!"
   ]
  },
  {
   "cell_type": "markdown",
   "metadata": {},
   "source": [
    "After reviewing each of the jobs above, I've narrowed my choices to the following five:\n",
    "\n",
    "- Data Scientist\n",
    "- Business Analytics Associate\n",
    "- City Economics Associate\n",
    "- Financial Operations Associate\n",
    "- Revenue & Pricing Associate"
   ]
  }
 ],
 "metadata": {
  "kernelspec": {
   "display_name": "Python 3",
   "language": "python",
   "name": "python3"
  },
  "language_info": {
   "codemirror_mode": {
    "name": "ipython",
    "version": 3
   },
   "file_extension": ".py",
   "mimetype": "text/x-python",
   "name": "python",
   "nbconvert_exporter": "python",
   "pygments_lexer": "ipython3",
   "version": "3.6.5"
  }
 },
 "nbformat": 4,
 "nbformat_minor": 2
}
